{
 "cells": [
  {
   "cell_type": "markdown",
   "metadata": {},
   "source": [
    "# Question 1\n",
    "\n",
    "Write a function to get the last item in a complete tree. This is easy to do if the complete tree were implemented using arrays. How would we do this if the tree was implemented using nodes?"
   ]
  },
  {
   "cell_type": "code",
   "execution_count": 1,
   "metadata": {},
   "outputs": [],
   "source": [
    "def get_last_array(tree:list):\n",
    "    if type(tree) == list:\n",
    "        return tree[-1]\n",
    "    else:\n",
    "        raise TypeError(\"Input type must be a list\")   "
   ]
  },
  {
   "cell_type": "code",
   "execution_count": 2,
   "metadata": {},
   "outputs": [
    {
     "name": "stdout",
     "output_type": "stream",
     "text": [
      "         15\n",
      "      7\n",
      "         14\n",
      "   3\n",
      "         13\n",
      "      6\n",
      "         12\n",
      "1\n",
      "         11\n",
      "      5\n",
      "         10\n",
      "   2\n",
      "         9\n",
      "      4\n",
      "         8\n"
     ]
    }
   ],
   "source": [
    "from dsa.tree import Node, Tree\n",
    "from dsa.queue import Queue\n",
    "\n",
    "root = Node(1)\n",
    "root.left = Node(2)\n",
    "root.right = Node(3)\n",
    "root.left.left = Node(4)\n",
    "root.left.right = Node(5)\n",
    "root.right.left = Node(6)\n",
    "root.right.right = Node(7)\n",
    "root.left.left.left = Node(8)\n",
    "root.left.left.right = Node(9)\n",
    "root.left.right.left = Node(10)\n",
    "root.left.right.right = Node(11)\n",
    "root.right.left.left = Node(12)\n",
    "root.right.left.right = Node(13)\n",
    "root.right.right.left = Node(14)\n",
    "root.right.right.right = Node(15)\n",
    "\n",
    "tree = Tree(root)\n",
    "\n",
    "\n",
    "tree.print()"
   ]
  },
  {
   "cell_type": "code",
   "execution_count": 13,
   "metadata": {},
   "outputs": [
    {
     "data": {
      "text/plain": [
       "1"
      ]
     },
     "execution_count": 13,
     "metadata": {},
     "output_type": "execute_result"
    }
   ],
   "source": [
    "q =Queue()\n",
    "q.enqueue(tree.root)\n",
    "\n",
    "a = q.dequeue()\n",
    "\n",
    "a.value\n"
   ]
  },
  {
   "cell_type": "code",
   "execution_count": 26,
   "metadata": {},
   "outputs": [
    {
     "data": {
      "text/plain": [
       "15"
      ]
     },
     "execution_count": 26,
     "metadata": {},
     "output_type": "execute_result"
    }
   ],
   "source": [
    "def find_last_node(tree:Tree):\n",
    "    \n",
    "    root = tree.root\n",
    "    \n",
    "    if root.value == None:\n",
    "        return None\n",
    "    \n",
    "    q = Queue()\n",
    "    q.enqueue(root)\n",
    "\n",
    "    last_node = q.peek()\n",
    "\n",
    "    while q.is_empty() == False:\n",
    "        last_node = q.dequeue()\n",
    "        if last_node.left:\n",
    "            q.enqueue(last_node.left)\n",
    "        if last_node.right:\n",
    "            q.enqueue(last_node.right)\n",
    "        \n",
    "    return last_node.value\n",
    "\n",
    "find_last_node(tree)\n",
    "        "
   ]
  },
  {
   "cell_type": "markdown",
   "metadata": {},
   "source": [
    "The above functions return the final item in a complete binary tree. The array version simply returns the final index of an array, which uses array indexing so uses $O(1)$ time and $O(1)$ space, since no new data is being created or stored.\n",
    "\n",
    "The tree version works by implementing level order traversal. We cannot simply traverse down the left/right to find the last level and then search it because in a tree, values are referenced using nodes, meaning there's no way to go left or right in a tree, you can only go up/down. Thus, we cleverly leverage queues to enqueue and dequeue children and update our last seen node. We enqueue the root when initializing the algorithm. \n",
    "\n",
    "We then while loop through the tree, deuqueing the current node. The current node's left and right children are then added to the back of the queue. The next item in the dequeued will be in the same level as the parent of the child nodes just enqueued, because the tree is complete, and this process continues until a level has been exhausted. Since we are traversing each level from left to right and the tree is guaranteed to be complete, the last node visited will be the final value, and the last node is updated to be the current node everytime a new node is dequeued. This algorithm has a time complexity of $O(n)$ since we are visiting every node once. It uses at most $\\frac{n}{2}$ nodes in the queue, which means that overall the algorithm uses $O(n)$ space."
   ]
  },
  {
   "cell_type": "markdown",
   "metadata": {},
   "source": [
    "# Question 2\n",
    "\n",
    "Write a function that accepts a string and returns an array of the characters in the string sorted by frequency (from most frequent to least frequent).\n",
    "\n",
    "You must use a heap to sort the characters. You can use the heap in the dsa package, Python's heapq package or write your own. \n",
    "\n",
    "Example: \n",
    "The input\n",
    "\n",
    "```python\n",
    "\"open sesame\"\n",
    "```\n",
    "\n",
    "should return:\n",
    "```python\n",
    "['e', 's', 'p', 'o', 'n', 'm', 'a', ' ']\n",
    "\n",
    "```\n",
    "\n",
    "Note: characters that have the same frequency can appear in any order"
   ]
  },
  {
   "cell_type": "code",
   "execution_count": 6,
   "metadata": {},
   "outputs": [
    {
     "data": {
      "text/plain": [
       "['e', 's', 'o', 'p', 'n', ' ', 'a', 'm']"
      ]
     },
     "execution_count": 6,
     "metadata": {},
     "output_type": "execute_result"
    }
   ],
   "source": [
    "from collections import defaultdict\n",
    "from dsa.heap import Heap\n",
    "def sort_char_by_freq(input:str) -> list[str]:\n",
    "    freq = defaultdict(int)\n",
    "    \n",
    "    for char in input:\n",
    "        freq[char] += 1\n",
    "    \n",
    "    freq2 = defaultdict(list)\n",
    "    for char, frequency in freq.items():\n",
    "        freq2[frequency].append(char)\n",
    "\n",
    "    heap = Heap(maxheap=True)\n",
    "\n",
    "    for key in freq2.keys():\n",
    "        heap.insert(key)\n",
    "\n",
    "    chars = []\n",
    "    \n",
    "    while heap.count() > 0:\n",
    "        current_freq = heap.pop()\n",
    "        for char in freq2[current_freq]:\n",
    "            chars.append(char)\n",
    "    \n",
    "    return chars\n",
    "\n",
    "sort_char_by_freq(\"open sesame\")"
   ]
  },
  {
   "cell_type": "markdown",
   "metadata": {},
   "source": [
    "This function leverages the heap condition to parse a string, and return the characters back to the user ordered by their frequency in the input string. First, we iterate through the input string and create a hashmap where each character in the string is a key, and the value is the count of the character. We use a defaultdict instead of a normal dictionary since we cannot initialize a value for a key that doesn't already exist in a dictionary when for looping through the string.\n",
    "\n",
    "Next, we create a second dictionary which is essentially the reverse of the first one, where the count is the key and the character is the value. To reduce the overall number of computations, the hashmap values are actually lists containing all values that have that count.\n",
    "\n",
    "Next, we initialize a max heap and store all of the keys from the second hash map (the counts) into the heap. We then pop the top value from the heap until it is empty, and use that value to retrieve the characters from the hash map of counts, add them to a list. Since the top of the max heap is always the maximum value, we know that the value corresponding to that key is the next frequency.\n",
    "\n",
    "This code has a time complexity of $O(nlogn)$. All other parts are $O(n)$ except the while loop. The loop runs at most n times (in case each character in the input string appears once) and retrieving an element from a heap is $O(1)$, but heapifying down after popping is $O(logn)$ worst case. This code uses 2 hash maps and 1 heap, all of which use $O(n)$ space, meaning the overall space complexity is $O(n)$.\n",
    "\n",
    "\n",
    "\n"
   ]
  },
  {
   "cell_type": "markdown",
   "metadata": {},
   "source": [
    "# Question 3\n",
    "\n",
    "Write a function that accepts an array of words and returns the longest common prefix. Write it so that it performs efficiently.\n",
    "\n",
    "For example, given the array\n",
    "```\n",
    "words = [\"apple\", \"appetite\", \"apparatus\", \"appliance\"]\n",
    "```\n",
    "\n",
    "The function should return\n",
    "\n",
    "```\n",
    "\"app\"\n",
    "```"
   ]
  },
  {
   "cell_type": "code",
   "execution_count": 21,
   "metadata": {},
   "outputs": [
    {
     "data": {
      "text/plain": [
       "''"
      ]
     },
     "execution_count": 21,
     "metadata": {},
     "output_type": "execute_result"
    }
   ],
   "source": [
    "from dsa.trie import Trie\n",
    "\n",
    "def longest_common_prefix(words:list[str]) -> str:\n",
    "    if not words:\n",
    "        return \"\"\n",
    "    \n",
    "    trie = Trie()\n",
    "\n",
    "    for word in words:\n",
    "        trie.insert(word)\n",
    "\n",
    "    node = trie.root\n",
    "    prefix = []\n",
    "\n",
    "    while node and len(node.children) == 1 and not trie.end_char:\n",
    "        char, next_node = next(iter(node.children.items()))\n",
    "        prefix.append(char)\n",
    "\n",
    "        node = next_node\n",
    "\n",
    "    return ''.join(prefix)\n",
    "\n",
    "    \n",
    "\n",
    "longest_common_prefix([\"apple\", \"appetite\", \"apparatus\", \"appliance\"])\n"
   ]
  },
  {
   "cell_type": "code",
   "execution_count": 23,
   "metadata": {},
   "outputs": [
    {
     "name": "stdout",
     "output_type": "stream",
     "text": [
      "app\n"
     ]
    }
   ],
   "source": [
    "class TrieNode:\n",
    "    def __init__(self):\n",
    "        self.children = {}\n",
    "        self.is_end_of_word = False\n",
    "\n",
    "class Trie:\n",
    "    def __init__(self):\n",
    "        self.root = TrieNode()\n",
    "\n",
    "    def insert(self, word):\n",
    "        node = self.root\n",
    "        for char in word:\n",
    "            if char not in node.children:\n",
    "                node.children[char] = TrieNode()\n",
    "            node = node.children[char]\n",
    "        node.is_end_of_word = True\n",
    "\n",
    "def longest_common_prefix(words):\n",
    "    if not words:\n",
    "        return \"\"\n",
    "    \n",
    "    trie = Trie()\n",
    "    for word in words:\n",
    "        trie.insert(word)\n",
    "    \n",
    "    node = trie.root\n",
    "    prefix = []\n",
    "    while node and len(node.children) == 1 and not node.is_end_of_word:\n",
    "        char, next_node = next(iter(node.children.items()))\n",
    "        prefix.append(char)\n",
    "        node = next_node\n",
    "    return ''.join(prefix)\n",
    "\n",
    "# Example usage\n",
    "words = [\"apple\", \"appetite\", \"apparatus\", \"appliance\"]\n",
    "print(longest_common_prefix(words))"
   ]
  },
  {
   "cell_type": "markdown",
   "metadata": {},
   "source": [
    "# Question 4\n",
    "\n",
    "Write a function that accepts an array of words and then returns the shortest unique prefix of each word. \n",
    "For example:\n",
    "\n",
    "`words = ['apple', 'banana', 'cherry', 'cranberry', 'grape', 'grapefruit']`\n",
    "\n",
    "```python\n",
    "words = ['apple', 'banana', 'cherry', 'cranberry', 'grape', 'grapefruit'] \n",
    "\n",
    "# 'apple' returns 'a'\n",
    "# 'banana' returns 'b'\n",
    "# 'cherry' returns 'ch'\n",
    "# 'cranberry' returns 'cr'\n",
    "# 'grape' returns 'grape'\n",
    "# 'grapefruit' returns 'grapef'\n",
    "# returns:\n",
    "['a', 'b', 'ch', 'cr', 'grape', 'grapef']\n",
    "```"
   ]
  },
  {
   "cell_type": "markdown",
   "metadata": {},
   "source": []
  }
 ],
 "metadata": {
  "kernelspec": {
   "display_name": "pytorch",
   "language": "python",
   "name": "python3"
  },
  "language_info": {
   "codemirror_mode": {
    "name": "ipython",
    "version": 3
   },
   "file_extension": ".py",
   "mimetype": "text/x-python",
   "name": "python",
   "nbconvert_exporter": "python",
   "pygments_lexer": "ipython3",
   "version": "3.11.7"
  }
 },
 "nbformat": 4,
 "nbformat_minor": 2
}
