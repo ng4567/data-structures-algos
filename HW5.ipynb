{
 "cells": [
  {
   "cell_type": "markdown",
   "metadata": {},
   "source": [
    "# Question 1\n",
    "\n",
    "Write a function to get the last item in a complete tree. This is easy to do if the complete tree were implemented using arrays. How would we do this if the tree was implemented using nodes?"
   ]
  },
  {
   "cell_type": "code",
   "execution_count": 1,
   "metadata": {},
   "outputs": [],
   "source": [
    "def get_last_array(tree:list):\n",
    "    if type(tree) == list:\n",
    "        return tree[-1]\n",
    "    else:\n",
    "        raise TypeError(\"Input type must be a list\")   "
   ]
  },
  {
   "cell_type": "code",
   "execution_count": 2,
   "metadata": {},
   "outputs": [
    {
     "name": "stdout",
     "output_type": "stream",
     "text": [
      "         15\n",
      "      7\n",
      "         14\n",
      "   3\n",
      "         13\n",
      "      6\n",
      "         12\n",
      "1\n",
      "         11\n",
      "      5\n",
      "         10\n",
      "   2\n",
      "         9\n",
      "      4\n",
      "         8\n"
     ]
    }
   ],
   "source": [
    "from dsa.tree import Node, Tree\n",
    "from dsa.queue import Queue\n",
    "\n",
    "root = Node(1)\n",
    "root.left = Node(2)\n",
    "root.right = Node(3)\n",
    "root.left.left = Node(4)\n",
    "root.left.right = Node(5)\n",
    "root.right.left = Node(6)\n",
    "root.right.right = Node(7)\n",
    "root.left.left.left = Node(8)\n",
    "root.left.left.right = Node(9)\n",
    "root.left.right.left = Node(10)\n",
    "root.left.right.right = Node(11)\n",
    "root.right.left.left = Node(12)\n",
    "root.right.left.right = Node(13)\n",
    "root.right.right.left = Node(14)\n",
    "root.right.right.right = Node(15)\n",
    "\n",
    "tree = Tree(root)\n",
    "\n",
    "\n",
    "tree.print()"
   ]
  },
  {
   "cell_type": "code",
   "execution_count": 13,
   "metadata": {},
   "outputs": [
    {
     "data": {
      "text/plain": [
       "1"
      ]
     },
     "execution_count": 13,
     "metadata": {},
     "output_type": "execute_result"
    }
   ],
   "source": [
    "q =Queue()\n",
    "q.enqueue(tree.root)\n",
    "\n",
    "a = q.dequeue()\n",
    "\n",
    "a.value\n"
   ]
  },
  {
   "cell_type": "code",
   "execution_count": 26,
   "metadata": {},
   "outputs": [
    {
     "data": {
      "text/plain": [
       "15"
      ]
     },
     "execution_count": 26,
     "metadata": {},
     "output_type": "execute_result"
    }
   ],
   "source": [
    "def find_last_node(tree:Tree):\n",
    "    \n",
    "    root = tree.root\n",
    "    \n",
    "    if root.value == None:\n",
    "        return None\n",
    "    \n",
    "    q = Queue()\n",
    "    q.enqueue(root)\n",
    "\n",
    "    last_node = q.peek()\n",
    "\n",
    "    while q.is_empty() == False:\n",
    "        last_node = q.dequeue()\n",
    "        if last_node.left:\n",
    "            q.enqueue(last_node.left)\n",
    "        if last_node.right:\n",
    "            q.enqueue(last_node.right)\n",
    "        \n",
    "    return last_node.value\n",
    "\n",
    "find_last_node(tree)\n",
    "        "
   ]
  },
  {
   "cell_type": "markdown",
   "metadata": {},
   "source": [
    "The above functions return the final item in a complete binary tree. The array version simply returns the final index of an array, which uses array indexing so uses $O(1)$ time and $O(1)$ space, since no new data is being created or stored.\n",
    "\n",
    "The tree version works by implementing level order traversal. We cannot simply traverse down the left/right to find the last level and then search it because in a tree, values are referenced using nodes, meaning there's no way to go left or right in a tree, you can only go up/down. Thus, we cleverly leverage queues to enqueue and dequeue children and update our last seen node. We enqueue the root when initializing the algorithm. \n",
    "\n",
    "We then while loop through the tree, deuqueing the current node. The current node's left and right children are then added to the back of the queue. The next item in the dequeued will be in the same level as the parent of the child nodes just enqueued, because the tree is complete, and this process continues until a level has been exhausted. Since we are traversing each level from left to right and the tree is guaranteed to be complete, the last node visited will be the final value, and the last node is updated to be the current node everytime a new node is dequeued. This algorithm has a time complexity of $O(n)$ since we are visiting every node once. It uses at most $\\frac{n}{2}$ nodes in the queue, which means that overall the algorithm uses $O(n)$ space."
   ]
  },
  {
   "cell_type": "markdown",
   "metadata": {},
   "source": [
    "# Question 2"
   ]
  },
  {
   "cell_type": "markdown",
   "metadata": {},
   "source": []
  }
 ],
 "metadata": {
  "kernelspec": {
   "display_name": "pytorch",
   "language": "python",
   "name": "python3"
  },
  "language_info": {
   "codemirror_mode": {
    "name": "ipython",
    "version": 3
   },
   "file_extension": ".py",
   "mimetype": "text/x-python",
   "name": "python",
   "nbconvert_exporter": "python",
   "pygments_lexer": "ipython3",
   "version": "3.10.11"
  }
 },
 "nbformat": 4,
 "nbformat_minor": 2
}
