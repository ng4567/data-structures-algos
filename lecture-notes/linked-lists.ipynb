{
 "cells": [
  {
   "cell_type": "markdown",
   "metadata": {},
   "source": [
    "Write a function that accepts an array and converts it to a linked list.\n",
    "\n"
   ]
  },
  {
   "cell_type": "code",
   "execution_count": 4,
   "metadata": {},
   "outputs": [],
   "source": [
    "class Node:\n",
    "    def __init__(self, value, next=None):\n",
    "        self.value = value\n",
    "        self.next = None\n",
    "\t\t\n",
    "class LinkedList:\n",
    "    def __init__(self, head, tail):\n",
    "        self.head = head\n",
    "        self.tail = tail\n",
    "        self.size = 0\n",
    "     \n",
    "    def __repr__(self):\n",
    "        s = \"\"\n",
    "        current = self.head\n",
    "        while current is not None:\n",
    "            s += str(current.value) + \" \"\n",
    "            current = current.next\n",
    "\n",
    "        return s\n"
   ]
  },
  {
   "cell_type": "code",
   "execution_count": 12,
   "metadata": {},
   "outputs": [],
   "source": [
    "def linklist(arr):\n",
    "    if not arr:\n",
    "        return None\n",
    "    \n",
    "    head = Node(arr[0])\n",
    "    current = head\n",
    "    \n",
    "    for val in arr[1:]:\n",
    "        current.next = Node(val)\n",
    "        current = current.next\n",
    "    \n",
    "    tail = current.next\n",
    "    size = len(arr)\n",
    "    \n",
    "    linked_list = LinkedList(head, tail)\n",
    "    linked_list.size = size\n",
    "    \n",
    "    return linked_list\n"
   ]
  },
  {
   "cell_type": "markdown",
   "metadata": {},
   "source": [
    "Write a function to detect a cycle in a linked list."
   ]
  },
  {
   "cell_type": "code",
   "execution_count": 5,
   "metadata": {},
   "outputs": [],
   "source": [
    "def identify_cycle(LinkedList):\n",
    "    length = LinkedList.size\n",
    "    \n",
    "    current = LinkedList.head\n",
    "    \n",
    "    for node in LinkedList:\n",
    "        current = LinkedList.next        \n",
    "    \n",
    "    tail = current\n",
    "    \n",
    "    if tail != LinkedList.tail:\n",
    "        return False\n",
    "    else:\n",
    "        return True\n",
    "    "
   ]
  },
  {
   "cell_type": "code",
   "execution_count": 6,
   "metadata": {},
   "outputs": [],
   "source": [
    "class Node:\n",
    "\tdef __init__(self, value, left=None, right=None):\n",
    "\t\tself.value = value\n",
    "\t\tself.left = left\n",
    "\t\tself.right = right\n",
    "\t\t\n",
    "class Tree:\n",
    "\tdef __init__(self, root):\n",
    "\t\tself.root = root\n",
    "\t\t"
   ]
  },
  {
   "cell_type": "markdown",
   "metadata": {},
   "source": [
    "Given a Tree and Node classes without any methods except for constructors, build a binary search tree.\n",
    "\n",
    "No need to write the insert method. Instead, build the tree node by node (construct a nodes and link them appropriately).\n",
    "\n",
    "You are given the following sequence:\n",
    "\n",
    "42, 23, 55, 17, 45, 30, 8"
   ]
  },
  {
   "cell_type": "code",
   "execution_count": null,
   "metadata": {},
   "outputs": [],
   "source": [
    "class bin_search_tree:\n",
    "    def __init__(self, LinkedList):\n",
    "        list = list(self.LinkedList)\n",
    "        list = list.sort()\n",
    "    \n",
    "        middle = len(list) // 2\n",
    "    \n",
    "    def bst(list, middle):\n",
    "        \n",
    "        tree = Tree(Node(list[middle]))\n",
    "\n",
    "    \n",
    "    "
   ]
  }
 ],
 "metadata": {
  "kernelspec": {
   "display_name": "genai",
   "language": "python",
   "name": "python3"
  },
  "language_info": {
   "codemirror_mode": {
    "name": "ipython",
    "version": 3
   },
   "file_extension": ".py",
   "mimetype": "text/x-python",
   "name": "python",
   "nbconvert_exporter": "python",
   "pygments_lexer": "ipython3",
   "version": "3.11.4"
  }
 },
 "nbformat": 4,
 "nbformat_minor": 2
}
