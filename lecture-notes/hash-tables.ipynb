{
 "cells": [
  {
   "cell_type": "markdown",
   "metadata": {},
   "source": [
    "Write a function that accepts an array of integers and returns the most frequently appearing value."
   ]
  },
  {
   "cell_type": "code",
   "execution_count": 9,
   "metadata": {},
   "outputs": [
    {
     "data": {
      "text/plain": [
       "('b',)"
      ]
     },
     "execution_count": 9,
     "metadata": {},
     "output_type": "execute_result"
    }
   ],
   "source": [
    "def most_frequent(a):\n",
    "    d = {}\n",
    "    \n",
    "    for e in a:\n",
    "        if e in d:\n",
    "            d[e] += 1\n",
    "        else:\n",
    "            d[e] = 1\n",
    "        \n",
    "    km = None\n",
    "    mx = 0\n",
    "    for key, value in d.items():\n",
    "        if value > mx:\n",
    "            km = key,\n",
    "            mx = value\n",
    "    \n",
    "    return km\n",
    "\n",
    "most_frequent(['a', 'b', 'b'] )"
   ]
  },
  {
   "cell_type": "markdown",
   "metadata": {},
   "source": [
    "Given an array filled with unsorted numbers from O to n, write an efficient function to find the one missing number"
   ]
  },
  {
   "cell_type": "code",
   "execution_count": 10,
   "metadata": {},
   "outputs": [],
   "source": [
    "def find_missing_number(array):\n",
    "    \n",
    "    ht = {}\n",
    "    \n",
    "    for n in array:\n",
    "        ht[n] = True\n",
    "        \n",
    "    for n in range(len(array) + 1):\n",
    "        if n not in ht.keys():\n",
    "            return n\n",
    "\n",
    "    \n",
    "    return None"
   ]
  }
 ],
 "metadata": {
  "kernelspec": {
   "display_name": "genai",
   "language": "python",
   "name": "python3"
  },
  "language_info": {
   "codemirror_mode": {
    "name": "ipython",
    "version": 3
   },
   "file_extension": ".py",
   "mimetype": "text/x-python",
   "name": "python",
   "nbconvert_exporter": "python",
   "pygments_lexer": "ipython3",
   "version": "3.11.undefined"
  }
 },
 "nbformat": 4,
 "nbformat_minor": 2
}
