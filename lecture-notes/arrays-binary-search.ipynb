{
 "cells": [
  {
   "cell_type": "markdown",
   "metadata": {},
   "source": [
    "Function to reverse an inputted list. \n",
    "\n",
    "Complexity: O(n)"
   ]
  },
  {
   "cell_type": "code",
   "execution_count": 8,
   "metadata": {},
   "outputs": [],
   "source": [
    "def reverse_list(arr):\n",
    "    length = len(arr)\n",
    "    for i in range(length // 2):\n",
    "        mirror = length - i - 1\n",
    "        \n",
    "        #perform swapping\n",
    "        arr[i], arr[mirror] = arr[mirror], arr[i]\n",
    "    \n",
    "    return arr"
   ]
  },
  {
   "cell_type": "code",
   "execution_count": 9,
   "metadata": {},
   "outputs": [
    {
     "data": {
      "text/plain": [
       "[6, 5, 4, 3, 2, 1]"
      ]
     },
     "execution_count": 9,
     "metadata": {},
     "output_type": "execute_result"
    }
   ],
   "source": [
    "reverse_list([1,2,3,4,5,6])"
   ]
  },
  {
   "cell_type": "markdown",
   "metadata": {},
   "source": [
    "Binary Search"
   ]
  },
  {
   "cell_type": "code",
   "execution_count": 29,
   "metadata": {},
   "outputs": [
    {
     "data": {
      "text/plain": [
       "'Target Value: 2\\nIndex: 1\\nInputted Array: [1, 2, 3, 4, 5, 6]\\nIterations: 2'"
      ]
     },
     "execution_count": 29,
     "metadata": {},
     "output_type": "execute_result"
    }
   ],
   "source": [
    "def binary_search(array, target):\n",
    "    \n",
    "    starting_index = 0\n",
    "    ending_index = len(array) - 1\n",
    "    \n",
    "    iterations = 0\n",
    "    \n",
    "    while starting_index <= ending_index:\n",
    "        middle = (starting_index + ending_index) // 2\n",
    "        if array[middle] == target:\n",
    "            return f\"Target Value: {target}\\nIndex: {middle}\\nInputted Array: {array}\\nIterations: {iterations}\"\n",
    "        \n",
    "        #If middle less than target, target is in right half, move the middle up\n",
    "        elif array[middle] < target:\n",
    "            starting_index = middle + 1\n",
    "        #If middle > than target, target is in left half, move the middle down\n",
    "        else:\n",
    "            ending_index = middle - 1\n",
    "        iterations += 1\n",
    "        \n",
    "    raise LookupError(\"Value not found\")\n",
    "\n",
    "binary_search([1,2,3,4,5,6], 2)\n",
    "        "
   ]
  },
  {
   "cell_type": "code",
   "execution_count": null,
   "metadata": {},
   "outputs": [],
   "source": []
  }
 ],
 "metadata": {
  "kernelspec": {
   "display_name": "genai",
   "language": "python",
   "name": "python3"
  },
  "language_info": {
   "codemirror_mode": {
    "name": "ipython",
    "version": 3
   },
   "file_extension": ".py",
   "mimetype": "text/x-python",
   "name": "python",
   "nbconvert_exporter": "python",
   "pygments_lexer": "ipython3",
   "version": "3.11.4"
  }
 },
 "nbformat": 4,
 "nbformat_minor": 2
}
