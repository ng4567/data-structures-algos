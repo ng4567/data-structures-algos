{
 "cells": [
  {
   "cell_type": "markdown",
   "metadata": {},
   "source": [
    "Fibonacci iteratively"
   ]
  },
  {
   "cell_type": "code",
   "execution_count": 1,
   "metadata": {},
   "outputs": [
    {
     "data": {
      "text/plain": [
       "10946"
      ]
     },
     "execution_count": 1,
     "metadata": {},
     "output_type": "execute_result"
    }
   ],
   "source": [
    "def fib(n):\n",
    "    a = 0\n",
    "    b = 1\n",
    "    \n",
    "    for i in range(1,n):\n",
    "        a,b = b, a+b\n",
    "\n",
    "    return a + b\n",
    "    \n",
    "fib(20)"
   ]
  },
  {
   "cell_type": "markdown",
   "metadata": {},
   "source": [
    "Write a memoized version of the factorial function"
   ]
  },
  {
   "cell_type": "code",
   "execution_count": 5,
   "metadata": {},
   "outputs": [
    {
     "data": {
      "text/plain": [
       "120"
      ]
     },
     "execution_count": 5,
     "metadata": {},
     "output_type": "execute_result"
    }
   ],
   "source": [
    "def fact_memo(n, memo=None):\n",
    "    if memo is None:\n",
    "        memo = {}\n",
    "    \n",
    "    if n < 2:\n",
    "        return 1\n",
    "    \n",
    "    if n not in memo:\n",
    "        memo[n] = n * fact_memo(n - 1, memo)\n",
    "\n",
    "    return memo[n]\n",
    "\n",
    "\n",
    "def fac(n, memo = {1 : 1}):\n",
    "    if n == 0  or n == 1:\n",
    "        return 1\n",
    "\n",
    "    for i in range(2, n):\n",
    "        memo[i] = i * memo[i-1]\n",
    "\n",
    "    return memo[n-1] * n\n",
    "\n",
    "\n",
    "fact_memo(5)"
   ]
  },
  {
   "cell_type": "code",
   "execution_count": null,
   "metadata": {},
   "outputs": [],
   "source": [
    "def combinations(a):\n",
    "    if not a:\n",
    "        return [[]]\n",
    "    \n",
    "    result = []\n",
    "\n",
    "    for tail in combinations(a[1:]):\n",
    "        result.extend([[a[0] + tail], tail])\n",
    "    \n",
    "    return result\n",
    "    "
   ]
  }
 ],
 "metadata": {
  "kernelspec": {
   "display_name": "mlx",
   "language": "python",
   "name": "python3"
  },
  "language_info": {
   "codemirror_mode": {
    "name": "ipython",
    "version": 3
   },
   "file_extension": ".py",
   "mimetype": "text/x-python",
   "name": "python",
   "nbconvert_exporter": "python",
   "pygments_lexer": "ipython3",
   "version": "3.11.7"
  }
 },
 "nbformat": 4,
 "nbformat_minor": 2
}
