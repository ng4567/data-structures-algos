{
 "cells": [
  {
   "cell_type": "markdown",
   "metadata": {},
   "source": [
    "# Table of Contents\n",
    "\n",
    "* [Question 1](#1)\n",
    "* [Question 2](#2)\n",
    "* [Question 3](#3)\n",
    "* [Question 4](#4)\n",
    "* [Question 5](#5)"
   ]
  },
  {
   "cell_type": "markdown",
   "metadata": {},
   "source": [
    "# Question 1 <a class=\"anchor\" id=\"1\"></a>\n",
    "\n",
    "Describe the worst case data and the best case data for each of the following sorting algorithms. Also, include the big O notation for each case.\n",
    "\n",
    "* Bubble Sort\n",
    "    * This algorithm works by starting from the beginning of an array, and comparing the target index with the one after, and swapping the lower value with the higher value. It is called bubble sort since the highest value will \"bubble\" up to the end of the array to its proper position through this process.\n",
    "    * Best case: $O(n)$ - Can check that the array is already sorted by seeing if swaps have been made, and exit the loop if there are no swaps\n",
    "    * Worst case: $O(n^2)$ - If the array is in reverse order, then there will need to be n swaps, giving 1 full iteration of the array for each n elements (nested iteration)\n",
    "    * Space: O(1): array is sorted in place\n",
    "* Selection Sort\n",
    "    * This algorithm starts with a pointer at the beginning of the array. It iterates through every index of the array until it finds the lowest number, and then \"selects\" it and moves that number to the beginning of the array. The pointer is then incremented and then the process is repeated until the array is sorted. There is no check to see if the array is already sorted, resuling in the same best and worst case time complexities.\n",
    "    * Best case: $O(n^2)$\n",
    "    * Worst case: $O(n^2)$\n",
    "    * Space: $O(n)$ - array is sorted in place\n",
    "* Insertion Sort\n",
    "    * Best case:\n",
    "    * Worst case: $O(n^2)$\n",
    "    * Space: $O(1)$ - array is sorted in place\n",
    "* Merge Sort\n",
    "    * Best case:\n",
    "    * Worst case: $O(nlogn)$\n",
    "* Quicksort\n",
    "    * Best case:\n",
    "    * Worst case:\n"
   ]
  },
  {
   "cell_type": "markdown",
   "metadata": {},
   "source": [
    "# Question 2 <a class=\"anchor\" id=\"2\"></a>\n",
    "\n",
    "Implement an insertion sort function.\n"
   ]
  },
  {
   "cell_type": "markdown",
   "metadata": {},
   "source": [
    "# Question 3 <a class=\"anchor\" id=\"3\"></a>\n"
   ]
  },
  {
   "cell_type": "markdown",
   "metadata": {},
   "source": [
    "Write a function that accepts an array and returns an array of numbers missing from it\n",
    "The input array:\n",
    "has a size n\n",
    "contains random numbers ranging from 0 to n-1\n",
    "may contain duplicate values\n",
    "not necessarily sorted\n",
    "The output array:\n",
    "contains missing numbers ranging from 0 to n-1.\n",
    "This function must have a time complexity of $O(n)$ to get full credit.\n",
    "\n",
    "For example:\n",
    "Given the array `[0, 3, 6, 7, 3, 3, 0, 4]`, this function should return `[ 1, 2, 5 ]`"
   ]
  },
  {
   "cell_type": "markdown",
   "metadata": {},
   "source": [
    "# Question 4 <a class=\"anchor\" id=\"4\"></a>\n",
    "\n",
    "Write a function that returns the first non-repeating character in a string with O(n) efficiency. It should return none or null if there are no non-repeating conesutive characters.\n",
    "\n",
    "For example:\n",
    "\n",
    "* string `\"aaaaabbbbbbc\"`, this function should return `\"c\"`\n",
    "* string `\"aabab\"` should return `\"b\"`\n",
    "* string `\"aababb\"` should return  None (\"b\" is repeating)\n"
   ]
  },
  {
   "cell_type": "markdown",
   "metadata": {},
   "source": [
    "# Question 5 <a class=\"anchor\" id=\"5\"></a>\n",
    "\n",
    "Write a function that given an array of integers and a target value, returns the length of the longest subarray with a sum equal to the target value. Write the function with $O(n)$ efficiency for full credit.\n",
    "\n",
    "Note: while the sliding window technique is acceptable as a solution, try solving this using a hash table.\n",
    " \n",
    "For example:\n",
    "Given an array `[3, 1, -1, 2, -1, 5, -2, 3]` and a target value of `3`, the longest subarray length is `5` (`[-1, 2, -1, 5, -2]`)\n"
   ]
  },
  {
   "cell_type": "markdown",
   "metadata": {},
   "source": []
  }
 ],
 "metadata": {
  "kernelspec": {
   "display_name": "pytorch",
   "language": "python",
   "name": "python3"
  },
  "language_info": {
   "name": "python",
   "version": "3.1.undefined"
  }
 },
 "nbformat": 4,
 "nbformat_minor": 2
}
