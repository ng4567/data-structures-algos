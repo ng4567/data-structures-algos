{
 "cells": [
  {
   "cell_type": "markdown",
   "metadata": {},
   "source": [
    "# Table of Contents\n",
    "\n",
    "* [Question 1](#1)\n",
    "* [Question 2](#2)\n",
    "* [Question 3](#3)\n",
    "* [Question 4](#4)\n",
    "* [Question 5](#5)"
   ]
  },
  {
   "cell_type": "markdown",
   "metadata": {},
   "source": [
    "# Question 1 <a class=\"anchor\" id=\"1\"></a>\n",
    "\n",
    "Describe the worst case data and the best case data for each of the following sorting algorithms. Also, include the big O notation for each case.\n",
    "\n",
    "* **Bubble Sort**\n",
    "    * **Explanation**: This algorithm works by starting from the beginning of an array, and comparing the target index with the one after, and swapping the lower value with the higher value. It is called bubble sort since the highest value will \"bubble\" up to the end of the array to its proper position through this process.\n",
    "    * **Best case**: $O(n)$ - Can check that the array is already sorted by seeing if swaps have been made, and exit the loop if there are no swaps\n",
    "    * **Worst case**: $O(n^2)$ - If the array is in reverse order, then there will need to be n swaps, giving 1 full iteration of the array for each n elements (nested iteration)\n",
    "    * **Space**: O(1): array is sorted in place\n",
    "* **Selection Sort**\n",
    "    * **Explanation**: This algorithm starts with a pointer at the beginning of the array. It iterates through every index of the array until it finds the lowest number, and then \"selects\" it and moves that number to the beginning of the array. The pointer is then incremented and then the process is repeated until the array is sorted. There is no check to see if the array is already sorted, resuling in the same best and worst case time complexities.\n",
    "    * **Best case**: $O(n^2)$\n",
    "    * **Worst case**: $O(n^2)$\n",
    "    * **Space**: $O(n)$ - array is sorted in place\n",
    "* **Insertion Sort**\n",
    "    * **Explanation**: Insertion sort works by creating a sorted and unsorted portion of the array. Starting from the begining, the first index is designated as the boundary of the \"sorted\" portion. The pointer is then incremented, and the value of the pointer is compared with the value of the right most element in the sorted portion. The value at the pointer is then \"inserted\" into the sorted portion at the correct position. Once we get to the third index, we need to iterate through the sorted portion to find the correct position to insert the third index. The best case time complexity is when the array is already sorted,and we can verify this with simple index comparisons. In the worst case where insertions need to be made at every index, we'll need to iterate through the \"sorted\" portion of the array n times to find the correct index to insert.\n",
    "    * **Best case**: $O(n)$ - array is already sorted\n",
    "    * **Worst case**: $O(n^2)$ - array in reverse order\n",
    "    * **Space**: $O(1)$ - array is sorted in place\n",
    "* **Merge Sort**\n",
    "    * **Explanation**: Merge sort is a divide and conquer algorithm that recursively splits an array into a \"reverse pyramid\" of subarrays and then works from the bottom up to sort the subarrays and merge them until a sorted array is returned. The algorithm takes the same number of steps if the array is sorted at the beginning or not, since this is only checked during the merge step, resulting in the same best and worst case time complexities.\n",
    "    * **Best case**:$O(nlogn)$\n",
    "    * **Worst case**: $O(nlogn)$\n",
    "    * **Space**: $O(n)$ - when the array is merged, we need an additional holder array of size n to hold the merged result before copying back to the original array.\n",
    "* **Quicksort**\n",
    "    * **Explanation**: Quicksort relies on choosing a value (best if near the middle) to be a pivot value. This value is then sorted into the middle of the array, with all values greater than the pivot to the right and all values less than the pivot to the left. The array is then split into 2 subarrays, and the process is applied recursively until the full array is sorted.\n",
    "    * **Best case**: $O(nlogn)$ - when the pivot value is correctly chosen near the middle of the range of values\n",
    "    * **Worst case**: $O(n^2)$ - when the smallest or largest value is chosen as the pivot.\n",
    "    * **Space**: \n",
    "      * Average is $O(logn)$, where $logn$ subarrays need to be made for each pivot\n",
    "      * Worst case is $O(n)$, which will cause the depth of the recursion tree to grow to n elements, since the subarrays will have length $1$ and $n-1$.\n"
   ]
  },
  {
   "cell_type": "markdown",
   "metadata": {},
   "source": [
    "# Question 2 <a class=\"anchor\" id=\"2\"></a>\n",
    "\n",
    "Implement an insertion sort function.\n"
   ]
  },
  {
   "cell_type": "code",
   "execution_count": 7,
   "metadata": {},
   "outputs": [],
   "source": [
    "def insertion_sort(arr: list[int]) -> list[int]:\n",
    "    \n",
    "    for i in range(1, len(arr)): #start with the first index already in sorted position\n",
    "        \n",
    "        sorting_boundary = i # need to init separate var since we don't want to decrement i inside the while loop\n",
    "        \n",
    "        while sorting_boundary > 0 and arr[sorting_boundary-1] > arr[sorting_boundary]:\n",
    "            arr[sorting_boundary - 1], arr[sorting_boundary] = arr[sorting_boundary], arr[sorting_boundary - 1]\n",
    "\n",
    "            sorting_boundary -= 1\n",
    "        \n",
    "    return arr        "
   ]
  },
  {
   "cell_type": "markdown",
   "metadata": {},
   "source": [
    "The above algorithm loops through the array and swaps the first index outside of the sorting boundary with each index to its left until it gets to the correct position, and then returns a sorted array."
   ]
  },
  {
   "cell_type": "markdown",
   "metadata": {},
   "source": [
    "# Question 3 <a class=\"anchor\" id=\"3\"></a>\n"
   ]
  },
  {
   "cell_type": "markdown",
   "metadata": {},
   "source": [
    "Write a function that accepts an array and returns an array of numbers missing from it\n",
    "\n",
    "* The input array:\n",
    "  * has a size $n$\n",
    "  * contains random numbers ranging from $0$ to $n-1$\n",
    "  * may contain duplicate values\n",
    "  * not necessarily sorted\n",
    "* The output array:\n",
    "  * contains missing numbers ranging from $0$ to $n-1$.\n",
    "\n",
    "This function must have a time complexity of $O(n)$ to get full credit.\n",
    "\n",
    "For example:\n",
    "Given the array `[0, 3, 6, 7, 3, 3, 0, 4]`, this function should return `[ 1, 2, 5 ]`"
   ]
  },
  {
   "cell_type": "code",
   "execution_count": 28,
   "metadata": {},
   "outputs": [],
   "source": [
    "def find_missing_nums(arr: list[int]) -> list[int]:\n",
    "    highest_val = max(arr) \n",
    "    seen_values = set(arr)\n",
    "    \n",
    "    missing_nums = []\n",
    "    \n",
    "    for i in range(highest_val+1):\n",
    "        if i not in seen_values:\n",
    "            missing_nums.append(i)\n",
    "    \n",
    "    return missing_nums\n",
    "\n"
   ]
  },
  {
   "cell_type": "markdown",
   "metadata": {},
   "source": [
    "This function starts by finding the maximum value of the array (which is always $n-1$) and creating a set from the values in the inputted array. We then iterate one number at a time from $0$ to the `highest_val` and check if the number is in the set, which is always done in $O(1)$  to $O(n)$ time since sets are implemented using hash tables in python, and it is simply performing hash table look up. If the value is not in the set, it is appended to a list of missing values which is returned at the end.\n",
    "\n",
    "* Time complexity of `max()` is $O(n)$ - [Source](https://www.geeksforgeeks.org/python-list-max-method/)\n",
    "* Checking if an item is in a set is $O(n)$ worst case - [Source](https://www.geeksforgeeks.org/internal-working-of-set-in-python/)\n"
   ]
  },
  {
   "cell_type": "markdown",
   "metadata": {},
   "source": [
    "# Question 4 <a class=\"anchor\" id=\"4\"></a>\n",
    "\n",
    "Write a function that returns the first non-repeating character in a string with O(n) efficiency. It should return none or null if there are no non-repeating conesutive characters.\n",
    "\n",
    "For example:\n",
    "\n",
    "* string `\"aaaaabbbbbbc\"`, this function should return `\"c\"`\n",
    "* string `\"aabab\"` should return `\"b\"`\n",
    "* string `\"aababb\"` should return  None (\"b\" is repeating)\n"
   ]
  },
  {
   "cell_type": "code",
   "execution_count": 69,
   "metadata": {},
   "outputs": [],
   "source": [
    "def first_non_repeating(input: str) -> str:\n",
    "    repeat_chars = set()\n",
    "    \n",
    "    for i in range(len(input) - 1):\n",
    "        if input[i] == input[i+1]:\n",
    "            repeat_chars.add(input[i])\n",
    "            \n",
    "    for i in input:\n",
    "        if i not in repeat_chars:\n",
    "            return i\n",
    "        \n",
    "    return None"
   ]
  },
  {
   "cell_type": "code",
   "execution_count": 74,
   "metadata": {},
   "outputs": [
    {
     "data": {
      "text/plain": [
       "'a'"
      ]
     },
     "execution_count": 74,
     "metadata": {},
     "output_type": "execute_result"
    }
   ],
   "source": [
    "def first_non_repeating(input: str) -> str:\n",
    "    repeat_chars = []\n",
    "    \n",
    "    for i in range(len(input) - 1):\n",
    "        if input[i] == input[i+1]:\n",
    "            repeat_chars.append(input[i])\n",
    "    \n",
    "    #handle edge case of last index not being a repeat char\n",
    "    repeat_chars = set(repeat_chars)\n",
    "    \n",
    "    if input[-1] not in repeat_chars:\n",
    "        return input[-1]\n",
    "            \n",
    "    return None\n",
    "\n",
    "first_non_repeating(\"aaaaabbbbbbc\")\n",
    "\n",
    "        \n",
    "    "
   ]
  },
  {
   "cell_type": "markdown",
   "metadata": {},
   "source": [
    "This function works by iterating through the input string and then checking for repeat values. Note that the final index is not checked since it cannot be a repeat value as there is no value after it. If a value is found to be a repeat using comparison, it is added to a set"
   ]
  },
  {
   "cell_type": "markdown",
   "metadata": {},
   "source": [
    "# Question 5 <a class=\"anchor\" id=\"5\"></a>\n",
    "\n",
    "Write a function that given an array of integers and a target value, returns the length of the longest subarray with a sum equal to the target value. Write the function with $O(n)$ efficiency for full credit.\n",
    "\n",
    "Note: while the sliding window technique is acceptable as a solution, try solving this using a hash table.\n",
    " \n",
    "For example:\n",
    "Given an array `[3, 1, -1, 2, -1, 5, -2, 3]` and a target value of `3`, the longest subarray length is `5` (`[-1, 2, -1, 5, -2]`)\n"
   ]
  },
  {
   "cell_type": "markdown",
   "metadata": {},
   "source": []
  }
 ],
 "metadata": {
  "kernelspec": {
   "display_name": "pytorch",
   "language": "python",
   "name": "python3"
  },
  "language_info": {
   "codemirror_mode": {
    "name": "ipython",
    "version": 3
   },
   "file_extension": ".py",
   "mimetype": "text/x-python",
   "name": "python",
   "nbconvert_exporter": "python",
   "pygments_lexer": "ipython3",
   "version": "3.11.4"
  }
 },
 "nbformat": 4,
 "nbformat_minor": 2
}
