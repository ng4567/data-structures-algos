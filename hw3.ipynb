{
 "cells": [
  {
   "cell_type": "markdown",
   "metadata": {},
   "source": [
    "# Question 1 <a class=\"anchor\" id=\"one\"></a>\n",
    "\n",
    "Describe the worst case data and the best case data for each of the following sorting algorithms. Also, include the big O notation for each case.\n",
    "\n",
    "* **Bubble Sort**\n",
    "    * **Explanation**: This algorithm works by starting from the beginning of an array, and comparing the target index with the one after, and swapping the lower value with the higher value. It is called bubble sort since the highest value will \"bubble\" up to the end of the array to its proper position through this process.\n",
    "    * **Best case**: $O(n)$ - Can check that the array is already sorted by seeing if swaps have been made, and exit the loop if there are no swaps\n",
    "    * **Worst case**: $O(n^2)$ - If the array is in reverse order, then there will need to be n swaps, giving 1 full iteration of the array for each n elements (nested iteration)\n",
    "    * **Space**: O(1): array is sorted in place\n",
    "* **Selection Sort**\n",
    "    * **Explanation**: This algorithm starts with a pointer at the beginning of the array. It iterates through every index of the array until it finds the lowest number, and then \"selects\" it and moves that number to the beginning of the array. The pointer is then incremented and then the process is repeated until the array is sorted. There is no check to see if the array is already sorted, resuling in the same best and worst case time complexities.\n",
    "    * **Best case**: $O(n^2)$\n",
    "    * **Worst case**: $O(n^2)$\n",
    "    * **Space**: $O(n)$ - array is sorted in place\n",
    "* **Insertion Sort**\n",
    "    * **Explanation**: Insertion sort works by creating a sorted and unsorted portion of the array. Starting from the begining, the first index is designated as the boundary of the \"sorted\" portion. The pointer is then incremented, and the value of the pointer is compared with the value of the right most element in the sorted portion. The value at the pointer is then \"inserted\" into the sorted portion at the correct position. Once we get to the third index, we need to iterate through the sorted portion to find the correct position to insert the third index. The best case time complexity is when the array is already sorted,and we can verify this with simple index comparisons. In the worst case where insertions need to be made at every index, we'll need to iterate through the \"sorted\" portion of the array n times to find the correct index to insert.\n",
    "    * **Best case**: $O(n)$ - array is already sorted\n",
    "    * **Worst case**: $O(n^2)$ - array in reverse order\n",
    "    * **Space**: $O(1)$ - array is sorted in place\n",
    "* **Merge Sort**\n",
    "    * **Explanation**: Merge sort is a divide and conquer algorithm that recursively splits an array into a \"reverse pyramid\" of subarrays and then works from the bottom up to sort the subarrays and merge them until a sorted array is returned. The algorithm takes the same number of steps if the array is sorted at the beginning or not, since this is only checked during the merge step, resulting in the same best and worst case time complexities.\n",
    "    * **Best case**:$O(nlogn)$\n",
    "    * **Worst case**: $O(nlogn)$\n",
    "    * **Space**: $O(n)$ - when the array is merged, we need an additional holder array of size n to hold the merged result before copying back to the original array.\n",
    "* **Quicksort**\n",
    "    * **Explanation**: Quicksort relies on choosing a value (best if near the middle) to be a pivot value. This value is then sorted into the middle of the array, with all values greater than the pivot to the right and all values less than the pivot to the left. The array is then split into 2 subarrays, and the process is applied recursively until the full array is sorted.\n",
    "    * **Best case**: $O(nlogn)$ - when the pivot value is correctly chosen near the middle of the range of values\n",
    "    * **Worst case**: $O(n^2)$ - when the smallest or largest value is chosen as the pivot.\n",
    "    * **Space**: \n",
    "      * Average is $O(logn)$, where $logn$ subarrays need to be made for each pivot\n",
    "      * Worst case is $O(n)$, which will cause the depth of the recursion tree to grow to n elements, since the subarrays will have length $1$ and $n-1$.\n"
   ]
  },
  {
   "cell_type": "markdown",
   "metadata": {},
   "source": [
    "# Question 2 <a class=\"anchor\" id=\"2\"></a>\n",
    "\n",
    "Implement an insertion sort function.\n"
   ]
  },
  {
   "cell_type": "code",
   "execution_count": 7,
   "metadata": {},
   "outputs": [],
   "source": [
    "def insertion_sort(arr: list[int]) -> list[int]:\n",
    "    \n",
    "    for i in range(1, len(arr)): #start with the first index already in sorted position\n",
    "        \n",
    "        sorting_boundary = i # need to init separate var since we don't want to decrement i inside the while loop\n",
    "        \n",
    "        while sorting_boundary > 0 and arr[sorting_boundary-1] > arr[sorting_boundary]:\n",
    "            arr[sorting_boundary - 1], arr[sorting_boundary] = arr[sorting_boundary], arr[sorting_boundary - 1]\n",
    "\n",
    "            sorting_boundary -= 1\n",
    "        \n",
    "    return arr        "
   ]
  },
  {
   "cell_type": "markdown",
   "metadata": {},
   "source": [
    "The above algorithm loops through the array and swaps the first index outside of the sorting boundary with each index to its left until it gets to the correct position, and then returns a sorted array."
   ]
  },
  {
   "cell_type": "markdown",
   "metadata": {},
   "source": [
    "# Question 3 <a class=\"anchor\" id=\"3\"></a>\n"
   ]
  },
  {
   "cell_type": "markdown",
   "metadata": {},
   "source": [
    "Write a function that accepts an array and returns an array of numbers missing from it\n",
    "\n",
    "* The input array:\n",
    "  * has a size $n$\n",
    "  * contains random numbers ranging from $0$ to $n-1$\n",
    "  * may contain duplicate values\n",
    "  * not necessarily sorted\n",
    "* The output array:\n",
    "  * contains missing numbers ranging from $0$ to $n-1$.\n",
    "\n",
    "This function must have a time complexity of $O(n)$ to get full credit.\n",
    "\n",
    "For example:\n",
    "Given the array `[0, 3, 6, 7, 3, 3, 0, 4]`, this function should return `[ 1, 2, 5 ]`"
   ]
  },
  {
   "cell_type": "code",
   "execution_count": 52,
   "metadata": {},
   "outputs": [],
   "source": [
    "def find_missing_nums(arr: list[int]) -> list[int]:\n",
    "    highest_val = max(arr) \n",
    "    seen_values = set(arr)\n",
    "    \n",
    "    missing_nums = []\n",
    "    \n",
    "    for i in range(highest_val+1):\n",
    "        if i not in seen_values:\n",
    "            missing_nums.append(i)\n",
    "    \n",
    "    return missing_nums"
   ]
  },
  {
   "cell_type": "markdown",
   "metadata": {},
   "source": [
    "This function starts by finding the maximum value of the array (which is always $n-1$) and creating a set from the values in the inputted array. We then iterate one number at a time from $0$ to the `highest_val` and check if the number is in the set, which is always done in $O(1)$  to $O(n)$ time since sets are implemented using hash tables in python, and it is simply performing hash table look up. If the value is not in the set, it is appended to a list of missing values which is returned at the end.\n",
    "\n",
    "* Time complexity of `max()` is $O(n)$ - [Source](https://www.geeksforgeeks.org/python-list-max-method/)\n",
    "* Checking if an item is in a set is $O(n)$ worst case - [Source](https://www.geeksforgeeks.org/internal-working-of-set-in-python/)\n"
   ]
  },
  {
   "cell_type": "markdown",
   "metadata": {},
   "source": [
    "# Question 4 <a class=\"anchor\" id=\"4\"></a>\n",
    "\n",
    "Write a function that returns the first non-repeating character in a string with O(n) efficiency. It should return none or null if there are no non-repeating consecutive characters.\n",
    "\n",
    "For example:\n",
    "\n",
    "* string `\"aaaaabbbbbbc\"`, this function should return `\"c\"`\n",
    "* string `\"aabab\"` should return `\"b\"`\n",
    "* string `\"aababb\"` should return  None (\"b\" is repeating)"
   ]
  },
  {
   "cell_type": "code",
   "execution_count": 50,
   "metadata": {},
   "outputs": [],
   "source": [
    "def first_non_repeating(input: str) -> str:\n",
    "    repeat_chars = []\n",
    "    \n",
    "    for i in range(len(input) - 1):\n",
    "        if input[i] == input[i+1]:\n",
    "            repeat_chars.append(input[i])\n",
    "            \n",
    "    repeat_chars = set(repeat_chars)\n",
    "    \n",
    "    for val in input:\n",
    "        if val not in repeat_chars:\n",
    "            return val    \n",
    "\n",
    "    return None\n"
   ]
  },
  {
   "cell_type": "code",
   "execution_count": 51,
   "metadata": {},
   "outputs": [
    {
     "name": "stdout",
     "output_type": "stream",
     "text": [
      "Input: abbbb, Output: a, Expected output: a, Passed: True\n",
      "Input: aaaaabbbbbbc, Output: c, Expected output: c, Passed: True\n",
      "Input: aabab, Output: b, Expected output: b, Passed: True\n",
      "Input: aababb, Output: None, Expected output: None, Passed: True\n"
     ]
    }
   ],
   "source": [
    "test_cases = {'abbbb':'a', \n",
    "              'aaaaabbbbbbc':'c',\n",
    "                'aabab':'b',\n",
    "                'aababb': None}\n",
    "for key in test_cases:\n",
    "\n",
    "    input = key\n",
    "    output = first_non_repeating(key)\n",
    "    expected_output = test_cases[key]\n",
    "    passed = False\n",
    "    \n",
    "    if output == expected_output:\n",
    "        passed = True\n",
    "\n",
    "    print(f\"Input: {input}, Output: {output}, Expected output: {expected_output}, Passed: {passed}\")"
   ]
  },
  {
   "cell_type": "markdown",
   "metadata": {},
   "source": [
    "This function works by iterating through the input string and then checking for repeat values. Values that are repeated are added to an array. We then turn this array into a set, so that we can get near constant time operations since sets are implemented using hash tables. We then iterate through the inputted string, and check if the current character in the string is in the set of repeated values. We return the first value that is not repeated.\n",
    "\n",
    "I acknowledge that it is technically possible that checking if a number within a set could be $O(n)$, in the case of hash collisions. Since this is extremely unlikely, I will consider it $O(1)$ for the purposes of this exercise."
   ]
  },
  {
   "cell_type": "markdown",
   "metadata": {},
   "source": [
    "# Question 5 <a class=\"anchor\" id=\"five\"></a>\n",
    "\n",
    "Write a function that given an array of integers and a target value, returns the length of the longest subarray with a sum equal to the target value. Write the function with $O(n)$ efficiency for full credit.\n",
    "\n",
    "Note: while the sliding window technique is acceptable as a solution, try solving this using a hash table.\n",
    " \n",
    "For example:\n",
    "Given an array `[3, 1, -1, 2, -1, 5, -2, 3]` and a target value of `3`, the longest subarray length is `5` (`[-1, 2, -1, 5, -2]`)\n"
   ]
  },
  {
   "cell_type": "markdown",
   "metadata": {},
   "source": [
    "For this algorithm, we will iterate through an array, and then return the longest subarray within it that sums to a target value.\n",
    "\n",
    "First, we'll initialize the following variables: \n",
    "* `cum_sum`: cumulative sum as we iterate through the array\n",
    "* `len_long_sub`: the length of the longest subarray \n",
    "* `index_start`: index of the start of the longest subarray\n",
    "* `cum_sums`: Hash Table storing cumulative sums as keys and their indicies as values\n",
    "\n",
    "Then, we'll for loop through the array, and add the value at index `i` of the array to the cumulative sum. If the cumulative sum is equal to the target, we'll update `len_long_sub` and `index_start`, since we know that the longest possible subarray we could have seen thus far is the array from `0` to the current index.\n",
    "\n",
    "Next, we'll check if $cumulative \\space sum - target$ is in the hash table. We do this because we know that for any subarray with starting index $i$ and ending index $j$, the cumulative sum of the subarray is equal to: $cum\\_sum_i - cumulative\\_sum_j$.\n",
    "\n",
    "Since we are specifically looking for instances where $cum\\_sum_i - cumulative\\_sum_j = target$, we can rewrite this equation to be:\n",
    "\n",
    "$cumulative\\_sum_j - target = cum\\_sum_i$\n",
    "\n",
    "Thus, if $cumulative\\_sum_j - target$ is in the hash table, we know that there must exist a subarray from the index of the key corresponding to the cum sum (it's value) to $j$ (the current index). If we are able to find it in the hash table, we update the max length and starting index variables.\n",
    "\n",
    "Next, we store the cumulative sum in the hash table if it hasn't been seen before. It is crucial that we only do this if the cumulative sum hasn't been seen before and not at each index becauase we can maximize the length of the possible returned subarray by doing so.\n",
    "\n",
    "Finally, we extract and return the longest subarray.\n"
   ]
  },
  {
   "cell_type": "code",
   "execution_count": 72,
   "metadata": {},
   "outputs": [],
   "source": [
    "def longest_subarray(arr: list[int], target: int) -> list[int]:\n",
    "    cum_sum = 0\n",
    "    len_long_sub = 0\n",
    "    index_start = 0\n",
    "    cum_sums = {}\n",
    "\n",
    "    for i in range(len(arr)):\n",
    "        cum_sum += arr[i]\n",
    "\n",
    "        if cum_sum == target:\n",
    "            len_long_sub = i + 1\n",
    "            index_start = 0\n",
    "\n",
    "        if (cum_sum - target) in cum_sums:\n",
    "            if len_long_sub < (i - cum_sums[cum_sum - target]):\n",
    "                len_long_sub = i - cum_sums[cum_sum - target]\n",
    "                index_start = cum_sums[cum_sum - target] + 1\n",
    "        \n",
    "        if cum_sum not in cum_sums:\n",
    "            cum_sums[cum_sum] = i\n",
    "\n",
    "    return len_long_sub, arr[index_start:index_start + len_long_sub]"
   ]
  },
  {
   "cell_type": "code",
   "execution_count": 76,
   "metadata": {},
   "outputs": [
    {
     "name": "stdout",
     "output_type": "stream",
     "text": [
      "Length of longest subarray: 5\n",
      "Longest subarray: [-1, 2, -1, 5, -2]\n"
     ]
    }
   ],
   "source": [
    "arr = [3, 1, -1, 2, -1, 5, -2, 3]\n",
    "target = 3\n",
    "length, subarray = longest_subarray(arr, target)\n",
    "print(f\"Length of longest subarray: {length}\")\n",
    "print(f\"Longest subarray: {subarray}\")"
   ]
  }
 ],
 "metadata": {
  "kernelspec": {
   "display_name": "pytorch",
   "language": "python",
   "name": "python3"
  },
  "language_info": {
   "codemirror_mode": {
    "name": "ipython",
    "version": 3
   },
   "file_extension": ".py",
   "mimetype": "text/x-python",
   "name": "python",
   "nbconvert_exporter": "python",
   "pygments_lexer": "ipython3",
   "version": "3.11.4"
  }
 },
 "nbformat": 4,
 "nbformat_minor": 2
}
