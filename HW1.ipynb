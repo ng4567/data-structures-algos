{
 "cells": [
  {
   "cell_type": "markdown",
   "metadata": {},
   "source": [
    "Nikhil Gopal Homework 1"
   ]
  },
  {
   "cell_type": "markdown",
   "metadata": {},
   "source": [
    "# Question 1\n",
    "\n",
    "(10 points) Write an example for each of the following. Avoid using examples that were already discussed in class. Examples do not necessarily have to be programming related:\n",
    "\n",
    "- $O(1)$\n",
    "  - Pulling out the first item on the first shelf in your fridge.\n",
    "  - Analagous to array indexing.\n",
    "* $O(log n)$\n",
    "  * Looking for your name tag in an alphabetically ordered list of name tags, you start at the middle if the letter of your name is before the middle letter, you eliminate the right half of names. If the letter of your name is after the middle letter, you eliminate the left half of the names. If your name tag is found, you stop. Repeat this process until you find your nametag.\n",
    "  * Binary search  \n",
    "* $O(n)$\n",
    "  * Looking through every shelf of your fridge, item by item, until you find the eggs, and pulling it out.\n",
    "  * Analagous to linear search.\n",
    "* $O(n log n)$\n",
    "  * You are a warehouse inventory manager who works for a company that makes business cards. One of your most important clients recently placed an order of business cards in bulk for their employees. One of the partners of the firm recently had an affair that was exposed in the newspapers, so you are instructed to find and destroy all business cards with their name on it. There are n boxes that contain n business cards each. The business cards are all in alphabetical order. You open each box one by one and within each box, you use binary search to find the partner's business cards and remove them. Once you do so, you destroy the business cards.\n",
    "  * iteration through an arary * binary search\n",
    "* $O(n^2$)$\n",
    "  * You are staying at your friend's apartment building and you brought n bags with you. Your friend didn't want to leave your keys in the open since people were visiting the house, so they hid them in one of their Russian babushka dolls. There are n babuskha dolls and n child dolls nested within each of them. You open each babuskha doll and it's children one by one until you find your keys.\n",
    "  * Example of nested iteration."
   ]
  },
  {
   "cell_type": "markdown",
   "metadata": {},
   "source": [
    "# Question 2\n",
    "\n",
    "(20 points) Write code to populate an array with the size n with numbers from 0 to n-1. Afterwards, shuffle (randomly reorder or rearrange)  the numbers in the array.\n",
    "\n",
    "Do not use any built-in functions such as shuffle(). However, feel free to use the  built-in random() function.\n",
    "\n",
    "Examples:\n",
    "\n",
    " ```  python [0, 1, 2, 3] -> shuffled: [2, 0, 3, 1]\n",
    "[0, 1, 2, 3, 4, 5] -> shuffled: [5, 2, 4, 1, 3, 0]\n",
    "```\n",
    "\n",
    "\n",
    "\n",
    "And finally, provide the Big O notation for both the average and worst case time complexities of your code.\n"
   ]
  },
  {
   "cell_type": "code",
   "execution_count": 248,
   "metadata": {},
   "outputs": [
    {
     "data": {
      "text/plain": [
       "[3, 2, 1, 0, 4]"
      ]
     },
     "execution_count": 248,
     "metadata": {},
     "output_type": "execute_result"
    }
   ],
   "source": [
    "import random\n",
    "\n",
    "\n",
    "def populate_and_shuffle_set(arr_len):\n",
    "    random_set = set()\n",
    "    return_array = []\n",
    "    while len(random_set) < arr_len:\n",
    "        rand_num = random.randint(0, arr_len - 1)\n",
    "        if rand_num not in random_set:\n",
    "            random_set.add(rand_num)\n",
    "            return_array.append(rand_num)\n",
    "    return return_array\n",
    "\n",
    "populate_and_shuffle_set(5)\n",
    "\n"
   ]
  },
  {
   "cell_type": "code",
   "execution_count": 249,
   "metadata": {},
   "outputs": [
    {
     "data": {
      "text/plain": [
       "[1, 5, 7, 4, 6, 2, 3, 0]"
      ]
     },
     "execution_count": 249,
     "metadata": {},
     "output_type": "execute_result"
    }
   ],
   "source": [
    "#Fisher-Yates shuffle\n",
    "\n",
    "import random\n",
    "\n",
    "def shuffle_array(n: int) -> list:\n",
    "    array = list(range(n))\n",
    "    pointer = 0\n",
    "    \n",
    "    while pointer < n - 1:\n",
    "        rand_num = random.randint(pointer, n - 1)\n",
    "        array[pointer], array[rand_num] = array[rand_num], array[pointer]\n",
    "        \n",
    "        pointer += 1\n",
    "        \n",
    "    return array\n",
    "        \n",
    "\n",
    "shuffle_array(8)\n",
    "    "
   ]
  },
  {
   "cell_type": "markdown",
   "metadata": {},
   "source": [
    "I wrote two implementations, one using the Fisher-Yates shuffle which uses a pointer that starts at the beginning or end of an array. It will then move over one index at a time. A random number will be generated, and the number at the index of the pointer will be switched with that index. The pointer is then moved over, blocking off that section of the array. When the random numbers are generated, they have to be generated between the pointer and the length of the array - 1 so that blocked off indexes cannot be swapped. If a number that has been swapped to a later index is latter swapped as the pointer moves, that is fine, and still results in a random shuffling of the array.\n",
    "\n",
    "The other implementation generates random numbers and adds them to the set. If the number generated is already in the set, it will not be added, but if it is not, it will be, resulting in a randomly generated list of numbers.\n",
    "\n",
    "The fisher-yates implementation is more efficient, which has an average and worst case time complexity of $O(n)$.\n",
    "\n",
    "Initializing the array and declaring the pointer are all $O(1)$ operations, as are the random number generation and the array index swapping within the while loop. Since the while loop will run at most n - 1 times for either the average or worst case, the overall time complexity is $O(n)$"
   ]
  },
  {
   "cell_type": "markdown",
   "metadata": {},
   "source": [
    "# Question 3\n",
    "\n",
    "(35 points) Write a function that accepts a sorted array of integers and a target value. The array may contain duplicate values. It should return the number of occurrences of the target value.\n",
    "\n",
    "```\n",
    "[0, 1, 2, 3, 3, 3, 3, 3, 3, 4, 4, 5] Target: 3, should return 6\n",
    "[1, 1, 2, 3, 3, 4, 5, 5, 5] Target: 5, should return 3\n",
    "[1, 1, 2, 3, 3, 4, 5, 5, 5] Target: 6, should return 0\n",
    "```\n",
    "\n",
    "Full credit for a O(log n) solution and partial credit otherwise."
   ]
  },
  {
   "cell_type": "code",
   "execution_count": 250,
   "metadata": {},
   "outputs": [],
   "source": [
    "def bin_search_first_occrence(array: list, target:int):\n",
    "    beginning_index, ending_index = 0, len(array) - 1\n",
    "    first_occurence = \"Not Found\"\n",
    "    \n",
    "    while beginning_index <= ending_index:\n",
    "        \n",
    "        middle_index = (beginning_index + ending_index) // 2\n",
    "        \n",
    "        if array[middle_index] == target:\n",
    "            first_occurence = middle_index\n",
    "            #move to left if index is found, in case its not the first occurence\n",
    "            ending_index = middle_index - 1 \n",
    "        elif array[middle_index] < target:\n",
    "            #if the middle is less than target, the target is to the right of middle. Thus, start searching from middle + 1\n",
    "            beginning_index = middle_index + 1 \n",
    "        else:\n",
    "            #if the middle is less than target, the target is to the left of middle. Thus, start searching from middle - 1\n",
    "            ending_index = middle_index - 1    \n",
    "    return first_occurence\n",
    "\n",
    "\n",
    "def bin_search_last_occrence(array: list, target:int):\n",
    "    beginning_index, ending_index = 0, len(array) - 1\n",
    "    last_occurence = \"Not Found\"\n",
    "    \n",
    "    while beginning_index <= ending_index:\n",
    "        \n",
    "        middle_index = (beginning_index + ending_index) // 2\n",
    "        \n",
    "        if array[middle_index] == target:\n",
    "            last_occurence = middle_index\n",
    "            #move to right if index is found, in case its not the last occurence\n",
    "            beginning_index = middle_index + 1             \n",
    "        elif array[middle_index] < target:\n",
    "            #if the middle is less than target, the target is to the right of middle. Thus, start searching from middle + 1\n",
    "            beginning_index = middle_index + 1 \n",
    "        else:\n",
    "            #if the middle is less than target, the target is to the left of middle. Thus, start searching from middle - 1\n",
    "            ending_index = middle_index - 1    \n",
    "    return last_occurence\n",
    "\n",
    "def count_occurences(array: list, target: int) -> int:\n",
    "    first_index = bin_search_first_occrence(array, target)\n",
    "    last_index = bin_search_last_occrence(array, target)\n",
    "    \n",
    "    try:\n",
    "        # we add 1 since indexing starts at 0\n",
    "        num_occurences = last_index - first_index + 1\n",
    "    except:\n",
    "        num_occurences = 0\n",
    "    \n",
    "    return num_occurences"
   ]
  },
  {
   "cell_type": "markdown",
   "metadata": {},
   "source": [
    "The objective is to make the algorithm more efficient by running it in $O(logn)$ time. It would be simple to do in $O(n)$ time with for loops, but this is less efficient than it could be. This algorithm is a modified version of binary search, which identifies the first and the last index of the occurence of the target, and then subtracts them to find the total number. \n",
    "\n",
    "To find the real first and last digit, we increment the beginning or ending value so that the algorithm doesn't stop when the target value is found for the first time. Binary search is $O(log n)$, hence this algorithm runs in $O(log n)$ time.\n"
   ]
  },
  {
   "cell_type": "markdown",
   "metadata": {},
   "source": [
    "# Question 4\n",
    "\n",
    "(35 points) Write a function that accepts a sorted, rotated array and returns the index of the largest value. Assume that the array is sorted in ascending order.\n",
    "\n",
    "A rotated array is an array that has had its elements shifted or rotated circularly to the left or right by a certain number of positions. This rotation does not change the elements themselves but changes their positions within the array.\n",
    "\n",
    "Examples:\n",
    "\n",
    "```\n",
    "[1, 2, 3, 4, 5] -> [4, 5, 1, 2, 3] # max value index: 1 (value: 5)\n",
    "[0, 1, 3, 5, 7, 11] -> [5, 7, 11, 0, 1, 3] # max value index: 2 (value: 11)\n",
    "```\n",
    "\n",
    "Full credit for a O(log n) solution and partial credit otherwise.\n",
    "\n"
   ]
  },
  {
   "cell_type": "code",
   "execution_count": 251,
   "metadata": {},
   "outputs": [],
   "source": [
    "def rotated_binary_search(array: list[int]) -> int:\n",
    "    left_pointer = 0\n",
    "    right_pointer = len(array) - 1\n",
    "\n",
    "        \n",
    "    while left_pointer < right_pointer:\n",
    "        middle_index = (right_pointer + left_pointer) // 2\n",
    "        \n",
    "        if array[middle_index] > array[right_pointer]: #if middle > right most, the greatest val is to the left of middle, or in the right half\n",
    "            print(f\"Middle: {array[middle_index]} Right pointer: {right_pointer}, Array: {array}\")\n",
    "            left_pointer = middle_index + 1\n",
    "        else:\n",
    "            right_pointer = middle_index # if not, the biggest value is to the left of the middle\n",
    "            \n",
    "        \n",
    "    #left pointer is the smallest index. Left pointer - 1 is thus the biggest due to the rotation.\n",
    "    if left_pointer == 0: #but if the left_pointer == 0, it means the biggest index is the last value in the array\n",
    "        return len(array) - 1\n",
    "    return left_pointer - 1        "
   ]
  },
  {
   "cell_type": "markdown",
   "metadata": {},
   "source": [
    "This solution achieves the desired result in $O(log n)$ time. It works by checking if the middle value is greater than the last value in the search space. If this is the case, we know that the largest value is in the right half, the middle value or immediately left of it. Although the array is shuffled, it is also ordered, so we know this for certain. Thus, we can narrow down the search space to the right half of the array.\n",
    "\n",
    "Otherwise, we know the greatest value is in the left half, and we shift the search space accordingly.\n",
    "\n",
    "To test the runtime, let's plot the input array length vs the number of loop iterations. To keep it simple, will generate arrays of ordered lists, but the runtime will still be the same as if the array were ordered properly or not:"
   ]
  },
  {
   "cell_type": "code",
   "execution_count": 252,
   "metadata": {},
   "outputs": [],
   "source": [
    "def rotated_binary_search(array: list[int]) -> int:\n",
    "    left_pointer = 0\n",
    "    right_pointer = len(array) - 1\n",
    "\n",
    "    iterations = 0\n",
    "        \n",
    "    while left_pointer < right_pointer:\n",
    "        middle_index = (right_pointer + left_pointer) // 2\n",
    "        \n",
    "        if array[middle_index] > array[right_pointer]: #if middle > right most, the greatest val is to the left of middle, or in the right half\n",
    "            print(f\"Middle: {array[middle_index]} Right pointer: {right_pointer}, Array: {array}\")\n",
    "            left_pointer = middle_index + 1\n",
    "        else:\n",
    "            right_pointer = middle_index # if not, the biggest value is to the left of the middle\n",
    "        \n",
    "        iterations += 1    \n",
    "        \n",
    "    #left pointer is the smallest index. Left pointer - 1 is thus the biggest due to the rotation.\n",
    "    if left_pointer == 0: #but if the left_pointer == 0, it means the biggest index is the last value in the array\n",
    "        return len(array) - 1, len(array), iterations\n",
    "    return left_pointer - 1, len(array), iterations"
   ]
  },
  {
   "cell_type": "markdown",
   "metadata": {},
   "source": [
    "This code takes ~1.5 minutes to run since I run it 100,000x"
   ]
  },
  {
   "cell_type": "code",
   "execution_count": 238,
   "metadata": {},
   "outputs": [],
   "source": [
    "iterations = []\n",
    "arr_length = []\n",
    "\n",
    "for i in range(100000):\n",
    "    tmp = [n for n in range(i)]\n",
    "    val, length, n_iterations = rotated_binary_search(tmp)\n",
    "    iterations.append(n_iterations)\n",
    "    arr_length.append(length)\n",
    "    \n",
    "    "
   ]
  },
  {
   "cell_type": "code",
   "execution_count": 247,
   "metadata": {},
   "outputs": [
    {
     "name": "stderr",
     "output_type": "stream",
     "text": [
      "/var/folders/hj/xknsfbyn3812mccyt1jqctmc0000gn/T/ipykernel_30313/3775889542.py:6: RuntimeWarning: divide by zero encountered in log2\n",
      "  plt.plot(arr_length, np.log2(arr_length, where=(arr_length != 0)), label='y=log2(x)', linestyle='--')\n"
     ]
    },
    {
     "data": {
      "image/png": "[encoded data removed]",
      "text/plain": [
       "<Figure size 1000x600 with 1 Axes>"
      ]
     },
     "metadata": {},
     "output_type": "display_data"
    }
   ],
   "source": [
    "import matplotlib.pyplot as plt\n",
    "import numpy as np\n",
    "\n",
    "plt.figure(figsize=(10, 6))\n",
    "plt.plot(arr_length, iterations, label='Number of Iterations')\n",
    "plt.plot(arr_length, np.log2(arr_length, where=(arr_length != 0)), label='y=log2(x)', linestyle='--')\n",
    "plt.xlabel('Length of Input Array')\n",
    "plt.ylabel('Number of Iterations')\n",
    "plt.legend()\n",
    "plt.title('Number of Iterations vs. Length of Input Array')\n",
    "plt.grid(True)\n",
    "plt.show()"
   ]
  },
  {
   "cell_type": "markdown",
   "metadata": {},
   "source": [
    "Our number of iterations is discrete, not continuous, hence why the curve looks like a step function. However, we can clearly see that it follows logarithmic and not linear tendencies."
   ]
  },
  {
   "cell_type": "markdown",
   "metadata": {},
   "source": [
    "Testing code (can ignore):"
   ]
  },
  {
   "cell_type": "code",
   "execution_count": 209,
   "metadata": {},
   "outputs": [],
   "source": [
    "#Cell generated with AI\n",
    "\n",
    "def generate_test_cases(num_cases: int):\n",
    "    test_cases = []\n",
    "    for _ in range(num_cases):\n",
    "        # Generate a random sorted array of random length (5 to 20 elements)\n",
    "        length = random.randint(5, 20)\n",
    "        sorted_array = sorted(random.sample(range(1, 100), length))\n",
    "        \n",
    "        # Rotate the array at a random pivot\n",
    "        pivot = random.randint(0, length - 1)\n",
    "        rotated_array = sorted_array[pivot:] + sorted_array[:pivot]\n",
    "        \n",
    "        test_cases.append(rotated_array)\n",
    "    return test_cases\n"
   ]
  },
  {
   "cell_type": "code",
   "execution_count": 212,
   "metadata": {},
   "outputs": [
    {
     "data": {
      "text/plain": [
       "[[46, 56, 58, 68, 10, 38],\n",
       " [62,\n",
       "  66,\n",
       "  74,\n",
       "  76,\n",
       "  79,\n",
       "  81,\n",
       "  88,\n",
       "  95,\n",
       "  97,\n",
       "  4,\n",
       "  17,\n",
       "  22,\n",
       "  33,\n",
       "  34,\n",
       "  35,\n",
       "  39,\n",
       "  44,\n",
       "  46,\n",
       "  50,\n",
       "  55],\n",
       " [28, 29, 34, 36, 38, 44, 61, 67, 74, 81, 82, 83, 85, 95, 4, 6, 20, 26]]"
      ]
     },
     "execution_count": 212,
     "metadata": {},
     "output_type": "execute_result"
    }
   ],
   "source": [
    "generate_test_cases(3)"
   ]
  },
  {
   "cell_type": "code",
   "execution_count": 207,
   "metadata": {},
   "outputs": [],
   "source": [
    "#Cell generated with AI\n",
    "def test_rotated_binary_search():\n",
    "    test_cases = generate_test_cases(50)\n",
    "    all_passed = True\n",
    "    \n",
    "    for i, case in enumerate(test_cases):\n",
    "        # Expected result\n",
    "        expected_result = case.index(max(case))\n",
    "        \n",
    "        # Function result\n",
    "        result = rotated_binary_search(case)\n",
    "        \n",
    "        if result != expected_result:\n",
    "            all_passed = False\n",
    "            print(f\"Test case {i + 1} failed:\")\n",
    "            print(f\"Array: {case}\")\n",
    "            print(f\"Expected: {expected_result}, Got: {result}\")\n",
    "    \n",
    "    if all_passed:\n",
    "        print(\"All test cases passed.\")\n",
    "    else:\n",
    "        print(\"Some test cases failed.\")\n"
   ]
  }
 ],
 "metadata": {
  "kernelspec": {
   "display_name": "genai",
   "language": "python",
   "name": "python3"
  },
  "language_info": {
   "codemirror_mode": {
    "name": "ipython",
    "version": 3
   },
   "file_extension": ".py",
   "mimetype": "text/x-python",
   "name": "python",
   "nbconvert_exporter": "python",
   "pygments_lexer": "ipython3",
   "version": "3.11.4"
  }
 },
 "nbformat": 4,
 "nbformat_minor": 2
}
