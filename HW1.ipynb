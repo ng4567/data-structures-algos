{
 "cells": [
  {
   "cell_type": "markdown",
   "metadata": {},
   "source": [
    "# Question 1\n",
    "\n",
    "(10 points) Write an example for each of the following. Avoid using examples that were already discussed in class. Examples do not necessarily have to be programming related:\n",
    "\n",
    "- $O(1)$\n",
    "  - Pulling out the first item on the first shelf in your fridge.\n",
    "  - Analagous to array indexing.\n",
    "* $O(log n)$\n",
    "  * Looking for your name tag in an alphabetically ordered list of name tags, you start at the middle if the letter of your name is before the middle letter, you eliminate the right half of names. If the letter of your name is after the middle letter, you eliminate the left half of the names. If your name tag is found, you stop. Repeat this process until you find your nametag.\n",
    "  * Binary search  \n",
    "* $O(n)$\n",
    "  * Looking through every shelf of your fridge, item by item, until you find the eggs, and pulling it out.\n",
    "  * Analagous to linear search.\n",
    "* $O(n log n)$\n",
    "  * You are a warehouse inventory manager who works for a company that makes business cards. One of your most important clients recently placed an order of business cards in bulk for their employees. One of the partners of the firm recently had an affair that was exposed in the newspapers, so you are instructed to find and destroy all business cards with their name on it. There are n boxes that contain n business cards each. The business cards are all in alphabetical order. You open each box one by one and within each box, you use binary search to find the partner's business cards and remove them. Once you do so, you destroy the business cards.\n",
    "  * iteration through an arary * binary search\n",
    "* $O(n^2$)$\n",
    "  * You are staying at your friend's apartment building and you brought n bags with you. Your friend didn't want to leave your keys in the open since people were visiting the house, so they hid them in one of their Russian babushka dolls. There are n babuskha dolls and n child dolls nested within each of them. You open each babuskha doll and it's children one by one until you find your keys.\n",
    "  * Example of nested iteration."
   ]
  },
  {
   "cell_type": "markdown",
   "metadata": {},
   "source": [
    "# Question 2\n",
    "\n",
    "(20 points) Write code to populate an array with the size n with numbers from 0 to n-1. Afterwards, shuffle (randomly reorder or rearrange)  the numbers in the array.\n",
    "\n",
    "Do not use any built-in functions such as shuffle(). However, feel free to use the  built-in random() function.\n",
    "\n",
    "Examples:\n",
    "\n",
    " ```  python [0, 1, 2, 3] -> shuffled: [2, 0, 3, 1]\n",
    "[0, 1, 2, 3, 4, 5] -> shuffled: [5, 2, 4, 1, 3, 0]\n",
    "```\n",
    "\n",
    "\n",
    "\n",
    "And finally, provide the Big O notation for both the average and worst case time complexities of your code.\n"
   ]
  },
  {
   "cell_type": "code",
   "execution_count": 90,
   "metadata": {},
   "outputs": [
    {
     "data": {
      "text/plain": [
       "[3, 2, 0, 4, 1]"
      ]
     },
     "execution_count": 90,
     "metadata": {},
     "output_type": "execute_result"
    }
   ],
   "source": [
    "import random\n",
    "\n",
    "\n",
    "def populate_and_shuffle_set(arr_len):\n",
    "    random_set = set()\n",
    "    return_array = []\n",
    "    while len(random_set) < arr_len:\n",
    "        rand_num = random.randint(0, arr_len - 1)\n",
    "        if rand_num not in random_set:\n",
    "            random_set.add(rand_num)\n",
    "            return_array.append(rand_num)\n",
    "    return return_array\n",
    "\n",
    "populate_and_shuffle_set(5)\n",
    "\n"
   ]
  },
  {
   "cell_type": "code",
   "execution_count": 91,
   "metadata": {},
   "outputs": [
    {
     "data": {
      "text/plain": [
       "[4, 2, 5, 3, 7, 0, 6, 1]"
      ]
     },
     "execution_count": 91,
     "metadata": {},
     "output_type": "execute_result"
    }
   ],
   "source": [
    "#Fisher-Yates shuffle\n",
    "\n",
    "import random\n",
    "\n",
    "def shuffle_array(n: int) -> list:\n",
    "    array = list(range(n))\n",
    "    pointer = 0\n",
    "    \n",
    "    while pointer < n - 1:\n",
    "        rand_num = random.randint(pointer, n - 1)\n",
    "        array[pointer], array[rand_num] = array[rand_num], array[pointer]\n",
    "        \n",
    "        pointer += 1\n",
    "        \n",
    "    return array\n",
    "        \n",
    "\n",
    "shuffle_array(8)\n",
    "    "
   ]
  },
  {
   "cell_type": "markdown",
   "metadata": {},
   "source": [
    "I wrote two implementations, one using the Fisher-Yates shuffle which uses a pointer that starts at the beginning or end of an array. It will then move over one index at a time. A random number will be generated, and the number at the index of the pointer will be switched with that index. The pointer is then moved over, blocking off that section of the array. When the random numbers are generated, they have to be generated between the pointer and the length of the array - 1 so that blocked off indexes cannot be swapped. If a number that has been swapped to a later index is latter swapped as the pointer moves, that is fine, and still results in a random shuffling of the array.\n",
    "\n",
    "The other implementation generates random numbers and adds them to the set. If the number generated is already in the set, it will not be added, but if it is not, it will be, resulting in a randomly generated list of numbers.\n",
    "\n",
    "The fisher-yates implementation is more efficient, which has an average and worst case time complexity of $O(n)$.\n",
    "\n",
    "Initializing the array and declaring the pointer are all $O(1)$ operations, as are the random number generation and the array index swapping within the while loop. Since the while loop will run at most n - 1 times for either the average or worst case, the overall time complexity is $O(n)$"
   ]
  },
  {
   "cell_type": "markdown",
   "metadata": {},
   "source": [
    "# Question 3\n",
    "\n",
    "(35 points) Write a function that accepts a sorted array of integers and a target value. The array may contain duplicate values. It should return the number of occurrences of the target value.\n",
    "\n",
    "```\n",
    "[0, 1, 2, 3, 3, 3, 3, 3, 3, 4, 4, 5] Target: 3, should return 6\n",
    "[1, 1, 2, 3, 3, 4, 5, 5, 5] Target: 5, should return 3\n",
    "[1, 1, 2, 3, 3, 4, 5, 5, 5] Target: 6, should return 0\n",
    "```\n",
    "\n",
    "Full credit for a O(log n) solution and partial credit otherwise."
   ]
  },
  {
   "cell_type": "code",
   "execution_count": 125,
   "metadata": {},
   "outputs": [],
   "source": [
    "def bin_search_first_occrence(array: list, target:int):\n",
    "    beginning_index, ending_index = 0, len(array) - 1\n",
    "    first_occurence = \"Not Found\"\n",
    "    \n",
    "    while beginning_index <= ending_index:\n",
    "        \n",
    "        middle_index = (beginning_index + ending_index) // 2\n",
    "        \n",
    "        if array[middle_index] == target:\n",
    "            first_occurence = middle_index\n",
    "            #move to left if index is found, in case its not the first occurence\n",
    "            ending_index = middle_index - 1 \n",
    "        elif array[middle_index] < target:\n",
    "            #if the middle is less than target, the target is to the right of middle. Thus, start searching from middle + 1\n",
    "            beginning_index = middle_index + 1 \n",
    "        else:\n",
    "            #if the middle is less than target, the target is to the left of middle. Thus, start searching from middle - 1\n",
    "            ending_index = middle_index - 1    \n",
    "    return first_occurence\n",
    "\n",
    "\n",
    "def bin_search_last_occrence(array: list, target:int):\n",
    "    beginning_index, ending_index = 0, len(array) - 1\n",
    "    last_occurence = \"Not Found\"\n",
    "    \n",
    "    while beginning_index <= ending_index:\n",
    "        \n",
    "        middle_index = (beginning_index + ending_index) // 2\n",
    "        \n",
    "        if array[middle_index] == target:\n",
    "            last_occurence = middle_index\n",
    "            #move to right if index is found, in case its not the last occurence\n",
    "            beginning_index = middle_index + 1             \n",
    "        elif array[middle_index] < target:\n",
    "            #if the middle is less than target, the target is to the right of middle. Thus, start searching from middle + 1\n",
    "            beginning_index = middle_index + 1 \n",
    "        else:\n",
    "            #if the middle is less than target, the target is to the left of middle. Thus, start searching from middle - 1\n",
    "            ending_index = middle_index - 1    \n",
    "    return last_occurence\n",
    "\n",
    "def count_occurences(array: list, target: int) -> int:\n",
    "    first_index = bin_search_first_occrence(array, target)\n",
    "    last_index = bin_search_last_occrence(array, target)\n",
    "    \n",
    "    try:\n",
    "        # we add 1 since indexing starts at 0\n",
    "        num_occurences = last_index - first_index + 1\n",
    "    except:\n",
    "        num_occurences = 0\n",
    "    \n",
    "    return num_occurences\n",
    "    \n",
    " \n",
    "\n"
   ]
  },
  {
   "cell_type": "markdown",
   "metadata": {},
   "source": [
    "The objective is to make the algorithm more efficient by running it in $O(logn)$ time. It would be simple to do in $O(n)$ time with for loops, but this is less efficient than it could be. This algorithm is a modified version of binary search, which identifies the first and the last index of the occurence of the target, and then subtracts them to find the total number. \n",
    "\n",
    "To find the real first and last digit, we increment the beginning or ending value so that the algorithm doesn't stop when the target value is found for the first time. Binary search is $O(log n)$, hence this algorithm runs in $O(log n)$ time.\n"
   ]
  },
  {
   "cell_type": "markdown",
   "metadata": {},
   "source": [
    "# Question 4\n",
    "\n",
    "(35 points) Write a function that accepts a sorted, rotated array and returns the index of the largest value. Assume that the array is sorted in ascending order.\n",
    "\n",
    "A rotated array is an array that has had its elements shifted or rotated circularly to the left or right by a certain number of positions. This rotation does not change the elements themselves but changes their positions within the array.\n",
    "\n",
    "Examples:\n",
    "\n",
    "```\n",
    "[1, 2, 3, 4, 5] -> [4, 5, 1, 2, 3] # max value index: 1 (value: 5)\n",
    "[0, 1, 3, 5, 7, 11] -> [5, 7, 11, 0, 1, 3] # max value index: 2 (value: 11)\n",
    "```\n",
    "\n",
    "Full credit for a O(log n) solution and partial credit otherwise.\n",
    "\n"
   ]
  }
 ],
 "metadata": {
  "kernelspec": {
   "display_name": "genai",
   "language": "python",
   "name": "python3"
  },
  "language_info": {
   "codemirror_mode": {
    "name": "ipython",
    "version": 3
   },
   "file_extension": ".py",
   "mimetype": "text/x-python",
   "name": "python",
   "nbconvert_exporter": "python",
   "pygments_lexer": "ipython3",
   "version": "3.11.4"
  }
 },
 "nbformat": 4,
 "nbformat_minor": 2
}
