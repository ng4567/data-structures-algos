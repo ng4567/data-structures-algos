{
 "cells": [
  {
   "cell_type": "markdown",
   "metadata": {},
   "source": [
    "# Question 1\n",
    "\n",
    "Write a function to reverse the elements in a doubly linked list. Do not simply print it out. It must have the references correctly set in reversed order and be space efficient.\n",
    "\n",
    "Also, write a print method – this should help with debugging.\n"
   ]
  },
  {
   "cell_type": "code",
   "execution_count": 50,
   "metadata": {},
   "outputs": [],
   "source": [
    "from dsa.doublylinkedlist import DoublyLinkedList, Node"
   ]
  },
  {
   "cell_type": "code",
   "execution_count": 58,
   "metadata": {},
   "outputs": [],
   "source": [
    "def reverse_doubly_linked(dlink: DoublyLinkedList) -> DoublyLinkedList:\n",
    "    \n",
    "    current = dlink.head\n",
    "    tmp = None\n",
    "\n",
    "    while current != None:\n",
    "        tmp = current.prev\n",
    "        current.prev, current.next = current.next, tmp\n",
    "\n",
    "        current = current.prev\n",
    "\n",
    "    if tmp is not None:\n",
    "        dlink.head, dlink.tail = dlink.tail, dlink.head\n",
    "\n",
    "    return dlink\n"
   ]
  },
  {
   "cell_type": "code",
   "execution_count": 68,
   "metadata": {},
   "outputs": [
    {
     "name": "stdout",
     "output_type": "stream",
     "text": [
      "Original Input: [10 20 30 40 ] Count: 4\n",
      "Reversed: [40 30 20 10 ] Count: 4\n"
     ]
    }
   ],
   "source": [
    "n1 = Node(10)\n",
    "n2 = Node(20)\n",
    "n3 = Node(30)\n",
    "n4 = Node(40)\n",
    "\n",
    "n1.next = n2\n",
    "n2.prev = n1\n",
    "n2.next = n3\n",
    "n3.prev = n2\n",
    "n3.next = n4\n",
    "n4.prev = n3\n",
    "\n",
    "dlink = DoublyLinkedList(n1, n4, 4)\n",
    "\n",
    "\n",
    "print(f\"Original Input: {dlink}\")\n",
    "reversed = reverse_doubly_linked(dlink)\n",
    "print(f\"Reversed: {reversed}\")"
   ]
  }
 ],
 "metadata": {
  "kernelspec": {
   "display_name": "pytorch",
   "language": "python",
   "name": "python3"
  },
  "language_info": {
   "codemirror_mode": {
    "name": "ipython",
    "version": 3
   },
   "file_extension": ".py",
   "mimetype": "text/x-python",
   "name": "python",
   "nbconvert_exporter": "python",
   "pygments_lexer": "ipython3",
   "version": "3.12.3"
  }
 },
 "nbformat": 4,
 "nbformat_minor": 2
}
