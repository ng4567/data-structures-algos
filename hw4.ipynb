{
 "cells": [
  {
   "cell_type": "markdown",
   "metadata": {},
   "source": [
    "# Question 1\n",
    "\n",
    "Write a function to reverse the elements in a doubly linked list. Do not simply print it out. It must have the references correctly set in reversed order and be space efficient.\n",
    "\n",
    "Also, write a print method – this should help with debugging.\n"
   ]
  },
  {
   "cell_type": "code",
   "execution_count": null,
   "metadata": {},
   "outputs": [],
   "source": [
    "from dsa.doublylinkedlist import DoublyLinkedList, Node\n",
    "\n",
    "def reverse_doubly_linked(dlink: DoublyLinkedList) -> DoublyLinkedList:\n",
    "    \n",
    "    current = dlink.head\n",
    "    tmp = None\n",
    "\n",
    "    while current != None:\n",
    "        tmp = current.prev\n",
    "        current.prev, current.next = current.next, tmp\n",
    "\n",
    "        current = current.prev\n",
    "\n",
    "    if tmp is not None:\n",
    "        dlink.head, dlink.tail = dlink.tail, dlink.head\n",
    "\n",
    "    return dlink\n"
   ]
  },
  {
   "cell_type": "code",
   "execution_count": 27,
   "metadata": {},
   "outputs": [
    {
     "name": "stdout",
     "output_type": "stream",
     "text": [
      "a\n",
      "b\n"
     ]
    }
   ],
   "source": [
    "counts = {\"a\": 1, \"b\": 2}\n",
    "\n",
    "counts.keys()\n",
    "\n",
    "for key in counts.keys():\n",
    "    print(key)"
   ]
  },
  {
   "cell_type": "code",
   "execution_count": null,
   "metadata": {},
   "outputs": [],
   "source": [
    "n1 = Node(10)\n",
    "n2 = Node(20)\n",
    "n3 = Node(30)\n",
    "n4 = Node(40)\n",
    "\n",
    "n1.next = n2\n",
    "n2.prev = n1\n",
    "n2.next = n3\n",
    "n3.prev = n2\n",
    "n3.next = n4\n",
    "n4.prev = n3\n",
    "\n",
    "dlink = DoublyLinkedList(n1, n4, 4)\n",
    "\n",
    "\n",
    "print(f\"Original Input: {dlink}\")\n",
    "reversed = reverse_doubly_linked(dlink)\n",
    "print(f\"Reversed: {reversed}\")"
   ]
  },
  {
   "cell_type": "markdown",
   "metadata": {},
   "source": [
    "This is a simple function that reverses a doubly linked list in place with $O(n)$ time complexity. We start by initializing a pointer at the head of the inputted linked list and creating a variable that will point to the previous node.\n",
    "\n",
    "We then iterate through the linked list using the pointers to swap the values of the node references. At the end, we check to make sure that tmp is not none to handle the edge case when an empty list is inputted, and then swap the head and tail values. Finally, we return the original list, which is now properly reversed."
   ]
  },
  {
   "cell_type": "markdown",
   "metadata": {},
   "source": [
    "# Question 2\n",
    "\n",
    "Write a function that takes two linked list and outputs a union of these two linked lists. Make it as efficient as possible. You can assume that each list consists of unique numbers and are not necessarily sorted. Also, the order of the output is not significant.\n",
    "For example:\n",
    "\n",
    " [2, 10, 5, 3, 4] and [4, 7, 8, 3, 11] has a union of [2, 10, 3, 4, 5, 7, 8, 11]\n"
   ]
  },
  {
   "cell_type": "code",
   "execution_count": null,
   "metadata": {},
   "outputs": [],
   "source": [
    "from dsa.singlylinkedlist import Node, LinkedList\n",
    "\n",
    "l11 = Node(2)\n",
    "l12 = Node(10)\n",
    "l13 = Node(5)\n",
    "l14 = Node(3)\n",
    "l15 = Node(4)\n",
    "\n",
    "l11.next = l12\n",
    "l12.next = l13\n",
    "l13.next = l14\n",
    "l14.next = l15\n",
    "\n",
    "l1 = LinkedList(l11, l15, count=5)\n",
    "\n",
    "l21 = Node(4)\n",
    "l22 = Node(7)\n",
    "l23 = Node(8)\n",
    "l24 = Node(3)\n",
    "l25 = Node(11)\n",
    "\n",
    "l21.next = l22\n",
    "l22.next = l23\n",
    "l23.next = l24\n",
    "l24.next = l25\n",
    "\n",
    "l2 = LinkedList(l21, l25, count=5)\n",
    "\n",
    "print(l1, l2)"
   ]
  },
  {
   "cell_type": "code",
   "execution_count": null,
   "metadata": {},
   "outputs": [],
   "source": [
    "def union_linked_lists(l1:LinkedList, l2:LinkedList):\n",
    "    union = set()\n",
    "\n",
    "    current_l1 = l1.head\n",
    "    current_l2 = l2.head\n",
    "    union_list = LinkedList()\n",
    "\n",
    "    while current_l1 is not None:\n",
    "        if current_l1.value not in union:\n",
    "            union.add(current_l1.value)\n",
    "            union_list.append(current_l1.value)\n",
    "        current_l1 = current_l1.next\n",
    "\n",
    "    while current_l2 is not None:\n",
    "        if current_l2.value not in union:\n",
    "            union.add(current_l2.value)\n",
    "            union_list.append(current_l2.value)\n",
    "        current_l2 = current_l2.next\n",
    "\n",
    "    \n",
    "    return union_list"
   ]
  },
  {
   "cell_type": "code",
   "execution_count": null,
   "metadata": {},
   "outputs": [],
   "source": [
    "union_linked_lists(l1, l2)\n"
   ]
  },
  {
   "cell_type": "markdown",
   "metadata": {},
   "source": [
    "This function leverages sets to efficiently return the union between two linked lists. We iterate rightwards through each list from the head and then check if the value of the current node is in the set. A set is used because duplicate values should not appear in the result, and checking if an item is in a set is on average $O(1)$ since they are implemented using hash tables. If the value is not in the set, it is added to the set and to the returned linkedlist and if it is in the set, it is simply skipped over.\n",
    "\n",
    "This code runs in $O(n+m)$ time where $n$ is the length of the first list and $m$ is the length of the second list. In case of collisions, the code will technically run in $O(n^2)$ time.\n",
    "\n",
    "Additionally, this code uses $O(n+m)$ space, which is the maximum length both the set and the returned list can be, and then we drop constants. All other variables will use $O(1)$ space."
   ]
  },
  {
   "cell_type": "markdown",
   "metadata": {},
   "source": [
    "# Question 3\n",
    "\n",
    "Write the following binary search tree functions to:\n",
    "* Return the minimum value\n",
    "* Return the maximum value\n",
    "* Return the sum of all values"
   ]
  },
  {
   "cell_type": "code",
   "execution_count": 4,
   "metadata": {},
   "outputs": [],
   "source": [
    "from dsa.tree import Node, Tree\n",
    "\n",
    "def min_bst_val(tree: Tree):\n",
    "    if not tree.root:\n",
    "        return None\n",
    "\n",
    "    current = tree.root\n",
    "    while current.left:   \n",
    "        current = current.left\n",
    "        \n",
    "    return current.value\n",
    "\n",
    "def max_bst_val(tree: Tree):\n",
    "    if not tree.root:\n",
    "        return None\n",
    "    \n",
    "    current = tree.root\n",
    "    while current.right:   \n",
    "        current = current.right\n",
    "        \n",
    "    return current.value"
   ]
  },
  {
   "cell_type": "markdown",
   "metadata": {},
   "source": [
    "These minimum and maximum value functions find the maximum value by cleverly leveraging the properties of binary search trees. First, the input is checked to not be None for the edge case where an empty tree is inputted. Next, we keep going down the tree until the left or right most value is found.\n",
    "\n",
    "These functions should run in $O(logn)$ time when the binary tree is balanced, and $O(n)$ time in case the tree is unbalanced."
   ]
  },
  {
   "cell_type": "code",
   "execution_count": 19,
   "metadata": {},
   "outputs": [],
   "source": [
    "def dfs(node):\n",
    "    vals = []\n",
    "    def _recurs_dfs(node):\n",
    "        if node:\n",
    "            vals.append(node.value)\n",
    "            _recurs_dfs(node.left)\n",
    "            _recurs_dfs(node.right)\n",
    "\n",
    "    _recurs_dfs(node)\n",
    "    return vals\n",
    "\n",
    "def sum_bst_old(tree: Tree):\n",
    "    bst_values = dfs(tree.root)\n",
    "    \n",
    "    sum = 0\n",
    "\n",
    "    for i in bst_values:\n",
    "        sum += i\n",
    "    \n",
    "    return sum\n",
    "\n",
    "def sum_bst(tree: Tree):\n",
    "    def _recurs_dfs(node):\n",
    "        if not node:\n",
    "            return 0\n",
    "        return node.value + _recurs_dfs(node.left) + _recurs_dfs(node.right)\n",
    "\n",
    "    return _recurs_dfs(tree.root)\n"
   ]
  },
  {
   "cell_type": "code",
   "execution_count": 18,
   "metadata": {},
   "outputs": [
    {
     "name": "stdout",
     "output_type": "stream",
     "text": [
      "Tree (root on left): \n",
      "\n",
      "\n",
      "      60\n",
      "   50\n",
      "      45\n",
      "40\n",
      "      35\n",
      "   30\n",
      "      25\n",
      "\n",
      "\n",
      "Min value: 25\n",
      "Max value: 60\n",
      "Sum of bst values: 285\n"
     ]
    }
   ],
   "source": [
    "root = Node(40)\n",
    "tree = Tree(root)\n",
    "\n",
    "tree.insert(30)\n",
    "tree.insert(50)\n",
    "tree.insert(25)\n",
    "tree.insert(35)\n",
    "tree.insert(45)\n",
    "tree.insert(60)\n",
    "\n",
    "print(\"Tree (root on left): \")\n",
    "print('\\n')\n",
    "tree.print()\n",
    "print('\\n')\n",
    "print(f\"Min value: {min_bst_val(tree)}\")\n",
    "print(f\"Max value: {max_bst_val(tree)}\")\n",
    "print(f\"Sum of bst values: {sum_bst(tree)}\")"
   ]
  },
  {
   "cell_type": "markdown",
   "metadata": {},
   "source": [
    "This function recursively leverages the depth-first-search algorithm to traverse the binary search tree, and then sum all its values. It is called depth first search because it goes all the way down to the left most child node on the floor of the tree (depth first) and then back tracks upwards visiting the right nodes of each child along the way.\n",
    "\n",
    "Since each node is visited once, the depth first search runs in $O(n)$ time. When a node is visited, its value is returned and recursively added to the sum variable, which is returned when the loop exits."
   ]
  },
  {
   "cell_type": "markdown",
   "metadata": {},
   "source": [
    "# Question 4\n",
    "\n",
    "Write a function that accepts a binary tree and verifies whether it fulfills binary search tree conditions."
   ]
  },
  {
   "cell_type": "code",
   "execution_count": 20,
   "metadata": {},
   "outputs": [],
   "source": [
    "def is_valid_bst(tree: Tree):   \n",
    "    root = tree.root\n",
    "    prev = [None]\n",
    "    def _recurs_dfs(node):\n",
    "        if node is None:\n",
    "            return True\n",
    "        if not _recurs_dfs(node.left):\n",
    "            return False\n",
    "        if prev[0] is not None and node.value <= prev[0]:\n",
    "            return False\n",
    "\n",
    "        prev[0] = node.value\n",
    "        return _recurs_dfs(node.right)\n",
    "    return _recurs_dfs(root)"
   ]
  },
  {
   "cell_type": "code",
   "execution_count": 24,
   "metadata": {},
   "outputs": [
    {
     "name": "stdout",
     "output_type": "stream",
     "text": [
      "False\n",
      "True\n",
      "True\n"
     ]
    }
   ],
   "source": [
    "one = Node(40)\n",
    "one.right = Node(30)\n",
    "two_tree = Tree(one)\n",
    "\n",
    "empty_tree = Tree(Node(None))\n",
    "    \n",
    "print(f\"{is_valid_bst(two_tree)}\")\n",
    "print(f\"{is_valid_bst(tree)}\")\n",
    "print(f\"{is_valid_bst(empty_tree)}\")\n"
   ]
  },
  {
   "cell_type": "markdown",
   "metadata": {},
   "source": [
    "This code modifies our recursive depth first search to check if binary search tree conditions are met during the tree traversal. First we initialize a variable that represents the root of the BST and a holder variable for the previous value visited. Our base case is that a node is either the end of a branch or an empty subtree, meaning we can return True since both of those are valid conditions for a BST. \n",
    "\n",
    "Next, we check to make sure that the function evaluated on the left nodes meet the conditions of a BST. If the function returns False, we know that one of the left nodes violated BST conditions, so we can immediately return False and break the loop. If the function returns true, we continue, and in the next step, we check that right children are less than or equal to the previous value. If this is not the case, we can immediately return False since we know we have violated BST conditions. \n",
    "\n",
    "We then update the value of the previous node with the current node, and recursively call the function on the right child node, continuing to iterate through the tree. At each level, we follow the proper DFS pattern of iterating through all left nodes recursively before iterating through the right node. We can safely return True for the base case because we know that the only possibility for having a node have no value is if all the other nodes have been visited (and we already checked that they met DFS conditions recursively) or its empty, which is allowed.\n",
    "\n",
    "\n",
    "This code will have a worst case time comlpexity of $O(n)$ since it visits each node once in the BST. The function uses $O(logn)$ space in the case of a balanced input tree, and $O(n)$ space in the case of an unbalanced tree. This is because the maximum recursion depth is $O(logn)$ for balanced trees and $O(n)$ for unbalanced trees. Once we are done traversing left children, they can be removed from the stack, meaning we need $O(logn)$ space in a best case scenario."
   ]
  }
 ],
 "metadata": {
  "kernelspec": {
   "display_name": "pytorch",
   "language": "python",
   "name": "python3"
  },
  "language_info": {
   "codemirror_mode": {
    "name": "ipython",
    "version": 3
   },
   "file_extension": ".py",
   "mimetype": "text/x-python",
   "name": "python",
   "nbconvert_exporter": "python",
   "pygments_lexer": "ipython3",
   "version": "3.12.3"
  }
 },
 "nbformat": 4,
 "nbformat_minor": 2
}
