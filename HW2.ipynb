{
 "cells": [
  {
   "cell_type": "markdown",
   "metadata": {},
   "source": [
    "# Table of Contents\n",
    "\n",
    "* [Question 1](#1)\n",
    "* [Question 2](#2)\n",
    "* [Question 3](#3)\n",
    "* [Question 4](#4)"
   ]
  },
  {
   "cell_type": "markdown",
   "metadata": {},
   "source": [
    "# Question 1 <a class=\"anchor\" id=\"1\"></a>\n",
    "\n",
    "Write a description and at least two examples (in real life and in programming) for:\n",
    "* Stacks\n",
    "* Queues\n",
    "* Deques"
   ]
  },
  {
   "cell_type": "markdown",
   "metadata": {},
   "source": [
    "### Stacks\n",
    "\n",
    "Stacks are an array or linked-list based data structures that adhere to a \"LIFO\" philosophy. This means that the last item added to the stack is the first item that can be removed. A stack is \"locked\" in the sense that only the last element can be removed, referred to as the top of the stack. Items are pushed onto the stack and popped off it.\n",
    "\n",
    "Here is the time and space complexity associated with each of the stack operations:\n",
    "\n",
    "**Time complexity:**\n",
    "\n",
    "`push()` - push onto top of stack\n",
    "* best/average case\n",
    "  * $O(1)$\n",
    "* worst case - when array is full and need to copy to new array\n",
    "  * $O(n)$\n",
    "`pop()` - remove (from top of stack only)\n",
    "* best/average case\n",
    "  * $O(1)$\n",
    "* worst case - only uses array indexing\n",
    "  * $O(1)$\n",
    "`peek()` - view the top element of the stack\n",
    "* best/average/worst case:\n",
    "  * $O(1)$ - always constant time for array indexing\n",
    "* `IsEmpty()` - check if stack is empty\n",
    "  * best/average/worst case:\n",
    "    * $O(1)$ - only requires if checking if a pointer is null\n",
    "* `Size()`\n",
    "  * best/average case - check size var\n",
    "    * $O(1)$\n",
    "  * worst case - requires looping through if no size var\n",
    "    * $O(n)$\n",
    "\n",
    "**Space Complexity:**\n",
    "\n",
    "* `push()` - always $O(1)$\n",
    "* `pop()` - always $O(1)$\n",
    "* space for stack - always O(n) - stack takes up n memory addresses like an array\n",
    "\n",
    "**Examples:**\n",
    "\n",
    "- Washing the dishes in the sink. You would always put a new dish on top, but you would always wash the top dish on the stack.\n",
    "- Studying flashcards. You will always pick the top flash card to read, but the first card you put into the deck is on the bottom.\n",
    "\n",
    "### Queues\n",
    "\n",
    "Queues are similar to stacks except they are reversed. The first element to be put into the queue is the first element to be removed.\n",
    "\n",
    "The queue has the following operations: `enqueue()`, `dequeue()`, `peek()`, `IsEmpty()`, `Size()`.\n",
    "\n",
    "As you can imagine, they have the same time and space complexities as their stack counterparts.\n",
    "\n",
    "**Examples:**\n",
    "\n",
    "- Lining up at the dmv. The first person in the line is the first person to be called to the counter.\n",
    "- Order fulfillment for an online store that is first come first serve. The first order submitted will be the first order fulfilled.\n",
    "\n",
    "### Deques\n",
    "\n",
    "A deque is a double ended queue, meaning that elements can be inserted or removed from either the front or the back. It has the following operations, all of which have $O(1)$ time complexity:\n",
    "\n",
    "* push (front or back)\n",
    "* pop (front or back)\n",
    "* front() - view front\n",
    "* back () - view back\n",
    "* empty() - check if empty\n",
    "* size () - check size\n",
    "  \n",
    "\n",
    "**Examples**\n",
    "\n",
    "* Managing cargo trains. Sometimes cargo cars need to be attached or detached to a train at different stops. These cars can only be attached or detached from the beginning or the end of the train, so a deque data structure would be helpful.\n",
    "* Hospital patient management. Within an emergency room, patients should generally be seen on a first come first serve basis. However, there will be some patients that have life threatening problems that should be seen immediately. The order in which patients will be seen could be managed by a deque, with normal patients being added to the end of the deque, and patients with life threatening illnesses being added to the front."
   ]
  },
  {
   "cell_type": "markdown",
   "metadata": {},
   "source": [
    "# Question 2 <a class=\"anchor\" id=\"2\"></a>\n",
    "\n",
    "Write a function that returns a Boolean as to whether a string has balanced braces. You may ignore non-bracket characters. For our purposes, the following are bracket characters:\n",
    "\n",
    "`(){}[]`\n",
    "\n",
    "For example, this function should return True for the following: \n",
    "\n",
    "[ ]\n",
    "\n",
    "{}{}[]()\n",
    "\n",
    "[{()}]\n",
    "\n",
    "(()[[[()({})]]])\n",
    "\n",
    "It should return False for the following:\n",
    "\n",
    "[ ] [\n",
    "\n",
    "{{}[](})\n",
    "\n",
    "[{)}]\n",
    "\n",
    "(()[()({})]]])\n"
   ]
  },
  {
   "cell_type": "code",
   "execution_count": 22,
   "metadata": {},
   "outputs": [],
   "source": [
    "from dsa.stack import Stack\n",
    "\n",
    "def check_braces(input: str) -> bool:\n",
    "    \n",
    "    stack = Stack()\n",
    "\n",
    "    openers = ['(', '{', '[']\n",
    "    closers = [')', '}', ']']\n",
    "\n",
    "    map = {\n",
    "        ')':'(',\n",
    "        '}':'{',\n",
    "        ']':'['\n",
    "           }\n",
    "\n",
    "    for i in input:\n",
    "        if i in openers:\n",
    "            stack.push(i)\n",
    "        elif i in closers:\n",
    "            if stack.is_empty() == True:\n",
    "                return False\n",
    "        \n",
    "            top = stack.pop()\n",
    "            if map[i] != top:\n",
    "                return False\n",
    "    \n",
    "    if stack.is_empty() == True:\n",
    "        return True\n",
    "    else:\n",
    "        return False\n",
    "\n",
    "\n"
   ]
  },
  {
   "cell_type": "code",
   "execution_count": 25,
   "metadata": {},
   "outputs": [],
   "source": [
    "test_cases_true = ['[ ]', \"{}{}[]()\", '[{()}]', '(()[[[()({})]]])']\n",
    "test_cases_false = ['[ ] [', '{{}[](})', '[{)}]', '(()[()({})]]])']"
   ]
  },
  {
   "cell_type": "markdown",
   "metadata": {},
   "source": [
    "This function leverages a clever implementation of the stack to check weather a brace has a match. If an opening brace is found, it is pushed to the top of the stack. If a closing brace is found, the stack length is first checked. If the stack is empty, the closing brace does not have an opening match, and the function returns False. \n",
    "\n",
    "Next, the if the stack is not empty, the top of the stack is popped. Since an closing brace must always have a corresponding opening preceeding it, the fucntion returns false if there is not a matching brace on the top of the stack, checked with a hash table. \n",
    "\n",
    "At the end of the loop, all items of the stack should have been popped off, and one final check is done to verify this, meaning that there is a closing bracket for every opener. If the stack is truly empty, the function returns True and subsequently ends. This array is only iterated through once, meaning it has a time complexity of $O(N)$"
   ]
  },
  {
   "cell_type": "markdown",
   "metadata": {},
   "source": [
    "# Question 3 <a class=\"anchor\" id=\"3\"></a>\n",
    "\n",
    "Fully implement the Deque data structure (you may choose either a static or dynamic implementation) using an array.  Do not use any built-in methods except for the index operator. Also, do not simply write a wrapper to the built-in Deque class.\n",
    "\n",
    "It should have the following methods:\n",
    "\n",
    "* append_left(element)\n",
    "* append_right(element)\n",
    "* pop_left()\n",
    "* pop_right()\n",
    "* peek_left()\n",
    "* peek_right()\n",
    "* get_count()\n",
    "\n",
    "It may also be helpful to implement a print method to display the contents of the deque in the correct order.\n",
    "\n",
    "Make sure to test your code, especially for tricky situations."
   ]
  },
  {
   "cell_type": "code",
   "execution_count": 26,
   "metadata": {},
   "outputs": [],
   "source": [
    "class Deque:\n",
    "\n",
    "    def __init__(self, input: list):\n",
    "        self._deque = input\n",
    "        self._original_input = input\n",
    "        self._count = self.__init_count()\n",
    "    \n",
    "    def __init_count(self):\n",
    "        count = 0\n",
    "        for i in self._deque:\n",
    "            count += 1\n",
    "        return count\n",
    "    \n",
    "    def view_original_input(self):\n",
    "        print(f\"Original input: {self._original_input} (not returned to maintain encapsulation)\")\n",
    "        \n",
    "    def view_deque(self):\n",
    "        print(f\"Deque: {self._deque} (not returned to maintain encapsulation)\")\n",
    "\n",
    "    def append_left(self, value):\n",
    "        self._deque = [value] + self._deque\n",
    "        self._count += 1\n",
    "        print(f\"New deque after right append {self._deque}\")\n",
    "        \n",
    "    def append_right(self, value):\n",
    "        self._deque = self._deque + [value]\n",
    "        self._count += 1\n",
    "        print(f\"New deque after right append {self._deque}\")\n",
    "    \n",
    "    def pop_left(self):\n",
    "        self._deque = self._deque[1:]\n",
    "        self._count -= 1\n",
    "        print(f\"New deque after left pop: {self._deque}\")\n",
    "   \n",
    "    def pop_right(self):\n",
    "        self._deque = self._deque[0:self._count - 1]\n",
    "        self._count -= 1\n",
    "        print(f\"New deque after right pop: {self._deque}\")\n",
    "        \n",
    "    def peek_left(self):\n",
    "        print(self._deque[0])\n",
    "        return self._deque[0]\n",
    "\n",
    "    def peek_right(self):\n",
    "        print(self._deque[self._count-1])\n",
    "        return self._deque[self._count-1]\n",
    "    \n",
    "    def get_count(self):\n",
    "        print(f\"Count: {self._count} (returned as int as well)\")\n",
    "        return self._count\n",
    "    \n",
    "    #testing implementation of dunder (double underscore) methods to extend class functionality to built in python str() and len() functions\n",
    "    def __str__(self):\n",
    "        return f\"{self._deque}\"\n",
    "    \n",
    "    def __len__(self):\n",
    "        return self._count\n",
    "\n"
   ]
  },
  {
   "cell_type": "markdown",
   "metadata": {},
   "source": [
    "# Question 4 <a class=\"anchor\" id=\"4\"></a>"
   ]
  },
  {
   "cell_type": "markdown",
   "metadata": {},
   "source": [
    "Write a recursive binary search function to search for an element in an array. Assume the elements in the array are sorted.\n",
    "\n",
    "It should return the index of the element and return -1 if it is not found."
   ]
  },
  {
   "cell_type": "code",
   "execution_count": 28,
   "metadata": {},
   "outputs": [
    {
     "name": "stdout",
     "output_type": "stream",
     "text": [
      "Target found at index: 6\n"
     ]
    }
   ],
   "source": [
    "def recursive_binary_search(array: list, target: int, left, right) -> int:\n",
    "    #base case:\n",
    "    if left > right: \n",
    "        return -1\n",
    "\n",
    "    middle = (left + right) // 2\n",
    "\n",
    "    if array[middle] == target: #target found\n",
    "        return middle\n",
    "    elif array[middle] > target: #target is in left half\n",
    "        return recursive_binary_search(array, target, left, middle - 1)\n",
    "    else: #target is in right half\n",
    "        return recursive_binary_search(array, target, middle + 1, right)"
   ]
  },
  {
   "cell_type": "code",
   "execution_count": 42,
   "metadata": {},
   "outputs": [
    {
     "data": {
      "text/plain": [
       "-1"
      ]
     },
     "execution_count": 42,
     "metadata": {},
     "output_type": "execute_result"
    }
   ],
   "source": [
    "def recursive_binary_search(array: list, target: int) -> int:\n",
    "    def recursive_pointer_helper(array: list, target: int, left: int, right: int):\n",
    "    #base case:\n",
    "        if left > right: \n",
    "            return -1\n",
    "\n",
    "        middle = (left + right) // 2\n",
    "\n",
    "        if array[middle] == target: #target found\n",
    "            return middle\n",
    "        elif array[middle] > target: #target is in left half\n",
    "            return recursive_pointer_helper(array, target, left, middle - 1)\n",
    "        else: #target is in right half\n",
    "            return recursive_pointer_helper(array, target, middle + 1, right)\n",
    "        \n",
    "    return recursive_pointer_helper(array, target, 0, len(array) - 1)"
   ]
  },
  {
   "cell_type": "markdown",
   "metadata": {},
   "source": [
    "The above function is binary search, implemented recursively. Like normal binary search, it takes an array and a target value as an input. The nested helper function is to avoid passing in the left and right pointers as parameters. They are initialized within the return statement of the outside function as the first index and last index of the input array respectively.\n",
    "\n",
    "Next, standard binary search procedure is followed. If the left index is greater than the right index, it means that the left pointer has passed the right pointer and the target is not within the array, so a -1 is returned. If the middle value is the target, we have identified the target, and we return the middle variable which corresponds to the index of the target value. If the middle value is greater than the target, we know the target is in the left half, so the right pointer becomes the middle - 1. Instead of updating pointer variable values, we pass the pointer values as variables to the helper function recursively. If the middle value is not greater than the target, it must be in the right half because the inputted array is sorted, so we update the pointers by moving the left pointer to the middle + 1, narrowing our search space."
   ]
  }
 ],
 "metadata": {
  "kernelspec": {
   "display_name": "genai",
   "language": "python",
   "name": "python3"
  },
  "language_info": {
   "codemirror_mode": {
    "name": "ipython",
    "version": 3
   },
   "file_extension": ".py",
   "mimetype": "text/x-python",
   "name": "python",
   "nbconvert_exporter": "python",
   "pygments_lexer": "ipython3",
   "version": "3.12.3"
  }
 },
 "nbformat": 4,
 "nbformat_minor": 2
}
